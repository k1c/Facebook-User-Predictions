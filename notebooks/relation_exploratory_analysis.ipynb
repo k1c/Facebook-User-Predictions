{
 "cells": [
  {
   "cell_type": "code",
   "execution_count": 1,
   "metadata": {},
   "outputs": [],
   "source": [
    "import pandas as pd\n",
    "import seaborn as sns\n",
    "import matplotlib.pyplot as plt\n",
    "import numpy as np"
   ]
  },
  {
   "cell_type": "markdown",
   "metadata": {},
   "source": [
    "# Relation.csv"
   ]
  },
  {
   "cell_type": "code",
   "execution_count": 2,
   "metadata": {},
   "outputs": [
    {
     "data": {
      "text/html": [
       "<div>\n",
       "<style scoped>\n",
       "    .dataframe tbody tr th:only-of-type {\n",
       "        vertical-align: middle;\n",
       "    }\n",
       "\n",
       "    .dataframe tbody tr th {\n",
       "        vertical-align: top;\n",
       "    }\n",
       "\n",
       "    .dataframe thead th {\n",
       "        text-align: right;\n",
       "    }\n",
       "</style>\n",
       "<table border=\"1\" class=\"dataframe\">\n",
       "  <thead>\n",
       "    <tr style=\"text-align: right;\">\n",
       "      <th></th>\n",
       "      <th>userid</th>\n",
       "      <th>like_id</th>\n",
       "    </tr>\n",
       "  </thead>\n",
       "  <tbody>\n",
       "    <tr>\n",
       "      <td>0</td>\n",
       "      <td>c6a9a43058c8cc8398ca6e97324c0fae</td>\n",
       "      <td>8628204013</td>\n",
       "    </tr>\n",
       "    <tr>\n",
       "      <td>1</td>\n",
       "      <td>c6a9a43058c8cc8398ca6e97324c0fae</td>\n",
       "      <td>19040608370</td>\n",
       "    </tr>\n",
       "    <tr>\n",
       "      <td>2</td>\n",
       "      <td>c6a9a43058c8cc8398ca6e97324c0fae</td>\n",
       "      <td>24054583527</td>\n",
       "    </tr>\n",
       "    <tr>\n",
       "      <td>3</td>\n",
       "      <td>c6a9a43058c8cc8398ca6e97324c0fae</td>\n",
       "      <td>26726417043</td>\n",
       "    </tr>\n",
       "    <tr>\n",
       "      <td>4</td>\n",
       "      <td>c6a9a43058c8cc8398ca6e97324c0fae</td>\n",
       "      <td>31796936730</td>\n",
       "    </tr>\n",
       "  </tbody>\n",
       "</table>\n",
       "</div>"
      ],
      "text/plain": [
       "                             userid      like_id\n",
       "0  c6a9a43058c8cc8398ca6e97324c0fae   8628204013\n",
       "1  c6a9a43058c8cc8398ca6e97324c0fae  19040608370\n",
       "2  c6a9a43058c8cc8398ca6e97324c0fae  24054583527\n",
       "3  c6a9a43058c8cc8398ca6e97324c0fae  26726417043\n",
       "4  c6a9a43058c8cc8398ca6e97324c0fae  31796936730"
      ]
     },
     "execution_count": 2,
     "metadata": {},
     "output_type": "execute_result"
    }
   ],
   "source": [
    "relation_df_train = pd.read_csv('../../new_data/Train/Relation/Relation.csv').drop(columns=['Unnamed: 0'])\n",
    "relation_df_train.head()"
   ]
  },
  {
   "cell_type": "markdown",
   "metadata": {},
   "source": [
    "Next, let's see if some of those page ids (like_id) exist in the Test dataset (if not, we wouldn't be able to infer anything based on which id shows up in the Test set):"
   ]
  },
  {
   "cell_type": "code",
   "execution_count": 3,
   "metadata": {},
   "outputs": [],
   "source": [
    "relation_df_test = pd.read_csv('../../new_data/Public_Test/Relation/Relation.csv').drop(columns=['Unnamed: 0'])"
   ]
  },
  {
   "cell_type": "code",
   "execution_count": 4,
   "metadata": {},
   "outputs": [
    {
     "name": "stdout",
     "output_type": "stream",
     "text": [
      "Amount of pages in common between the Train and Test sets: 23581 or 4.113369278725642%\n"
     ]
    }
   ],
   "source": [
    "test_set_unique_ids = set(relation_df_test['like_id'])\n",
    "train_set_unique_ids = set(relation_df_train['like_id'])\n",
    "common_ids = test_set_unique_ids.intersection(train_set_unique_ids)\n",
    "ids_in_common = len(common_ids)\n",
    "percentage_common = 100 * ids_in_common / (len(test_set_unique_ids) + len(train_set_unique_ids))\n",
    "print(\"Amount of pages in common between the Train and Test sets: {} or {}%\".format(ids_in_common, percentage_common))"
   ]
  },
  {
   "cell_type": "markdown",
   "metadata": {},
   "source": [
    "As we can see, there are not so many ids in common. We might be able to still use the Train set to infer the Test set. Let's continue.\n",
    "\n",
    "Let's take a look at how many times each page was liked in the Train set:"
   ]
  },
  {
   "cell_type": "code",
   "execution_count": 5,
   "metadata": {},
   "outputs": [
    {
     "name": "stdout",
     "output_type": "stream",
     "text": [
      "Total unique pages: 536204\n",
      "Pages with <= 50 likes: 531612\n",
      "Pages with > 50 likes: 4592\n"
     ]
    }
   ],
   "source": [
    "page_id_like_counts = relation_df_train['like_id'].value_counts()\n",
    "print(\"Total unique pages: {}\".format(len(page_id_like_counts)))\n",
    "print(\"Pages with <= 50 likes: {}\".format(len(page_id_like_counts[page_id_like_counts <= 50])))\n",
    "print(\"Pages with > 50 likes: {}\".format(len(page_id_like_counts[page_id_like_counts > 50])))"
   ]
  },
  {
   "cell_type": "markdown",
   "metadata": {},
   "source": [
    "Since most pages have less than 50 likes, the density function is extremely skewed towards the left:"
   ]
  },
  {
   "cell_type": "code",
   "execution_count": 9,
   "metadata": {},
   "outputs": [
    {
     "data": {
      "image/png": "[encoded data removed]",
      "text/plain": [
       "<Figure size 432x288 with 1 Axes>"
      ]
     },
     "metadata": {
      "needs_background": "light"
     },
     "output_type": "display_data"
    }
   ],
   "source": [
    "plot = page_id_like_counts.plot.kde()\n",
    "plot.set_xlim(-5, 2000)\n",
    "plot.set_title('Density plot of how many likes a page gets')\n",
    "plt.show()"
   ]
  },
  {
   "cell_type": "markdown",
   "metadata": {},
   "source": [
    "If we zoom in to ones that have up to 50 likes:"
   ]
  },
  {
   "cell_type": "code",
   "execution_count": 12,
   "metadata": {},
   "outputs": [
    {
     "data": {
      "image/png": "[encoded data removed]",
      "text/plain": [
       "<Figure size 432x288 with 1 Axes>"
      ]
     },
     "metadata": {
      "needs_background": "light"
     },
     "output_type": "display_data"
    }
   ],
   "source": [
    "plot = page_id_like_counts.plot.kde()\n",
    "plot.set_xlim(0,50)\n",
    "plot.set_title('Density plot (zoomed) of how many likes a page gets')\n",
    "plt.show()"
   ]
  },
  {
   "cell_type": "markdown",
   "metadata": {},
   "source": [
    "Then we see that a majority (99%+) have less than 10 likes."
   ]
  },
  {
   "cell_type": "code",
   "execution_count": null,
   "metadata": {},
   "outputs": [],
   "source": []
  },
  {
   "cell_type": "markdown",
   "metadata": {},
   "source": [
    "# Comparison to Profile.csv"
   ]
  },
  {
   "cell_type": "code",
   "execution_count": null,
   "metadata": {},
   "outputs": [],
   "source": [
    "profile_df = pd.read_csv('../../data/Train/Profile/Profile.csv').drop(columns=['Unnamed: 0'])"
   ]
  },
  {
   "cell_type": "code",
   "execution_count": null,
   "metadata": {},
   "outputs": [],
   "source": [
    "page_id_like_counts"
   ]
  },
  {
   "cell_type": "markdown",
   "metadata": {},
   "source": [
    "The most liked page has 1289 likes. Let's look at a violin plot of the five personality characteristics of the people that liked that page:"
   ]
  },
  {
   "cell_type": "code",
   "execution_count": null,
   "metadata": {},
   "outputs": [],
   "source": [
    "def get_users_who_like_a_page(approx_like_count):    \n",
    "    page_id = page_id_like_counts[page_id_like_counts < approx_like_count].keys()[0]\n",
    "    relation_users_who_liked_page_id = relation_df_train[relation_df_train['like_id'] == page_id]['userid']\n",
    "    profile_users_who_liked_page_id = profile_df[profile_df['userid'].isin(relation_users_who_liked_page_id)]\n",
    "    return page_id, profile_users_who_liked_page_id\n",
    "\n",
    "def plot_personality_violin_plot(page_id, data):\n",
    "    print(\"How many likes page id {} got: {}\".format(page_id, len(data)))\n",
    "    sns.violinplot(\n",
    "        data=data.iloc[:, 3:]\n",
    "    ).set_title('Violin plot of people that liked page id {}'.format(page_id))"
   ]
  },
  {
   "cell_type": "code",
   "execution_count": null,
   "metadata": {},
   "outputs": [],
   "source": [
    "plot_personality_violin_plot(*get_users_who_like_a_page(1300))"
   ]
  },
  {
   "cell_type": "markdown",
   "metadata": {},
   "source": [
    "Here we see that the range of values is all the domain [1:5]. Perhaps not very good for an estimate. But if we look at a page id that has far less likes:"
   ]
  },
  {
   "cell_type": "code",
   "execution_count": null,
   "metadata": {},
   "outputs": [],
   "source": [
    "plot_personality_violin_plot(*get_users_who_like_a_page(10))"
   ]
  },
  {
   "cell_type": "markdown",
   "metadata": {},
   "source": [
    "Then we can see that the graph looks quite different. Some values get more precise, some get less precise. For all values (except neu in this case), the range of values shrinks. With some tuning, and taking into account all the likes of a person instead of just one page, allow us, to predict people's personalities?"
   ]
  },
  {
   "cell_type": "code",
   "execution_count": null,
   "metadata": {},
   "outputs": [],
   "source": []
  }
 ],
 "metadata": {
  "kernelspec": {
   "display_name": "Python 3",
   "language": "python",
   "name": "python3"
  },
  "language_info": {
   "codemirror_mode": {
    "name": "ipython",
    "version": 3
   },
   "file_extension": ".py",
   "mimetype": "text/x-python",
   "name": "python",
   "nbconvert_exporter": "python",
   "pygments_lexer": "ipython3",
   "version": "3.7.4"
  }
 },
 "nbformat": 4,
 "nbformat_minor": 2
}
