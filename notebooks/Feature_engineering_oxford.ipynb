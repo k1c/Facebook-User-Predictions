{
 "cells": [
  {
   "cell_type": "code",
   "execution_count": 17,
   "metadata": {},
   "outputs": [],
   "source": [
    "import os, sys\n",
    "import numpy as np\n",
    "import pandas as pd\n",
    "from typing import Dict"
   ]
  },
  {
   "cell_type": "code",
   "execution_count": 18,
   "metadata": {},
   "outputs": [
    {
     "name": "stdout",
     "output_type": "stream",
     "text": [
      "/home/mila/teaching/user09\n"
     ]
    }
   ],
   "source": [
    "print(os.getcwd())"
   ]
  },
  {
   "cell_type": "code",
   "execution_count": 19,
   "metadata": {
    "scrolled": true
   },
   "outputs": [
    {
     "name": "stdout",
     "output_type": "stream",
     "text": [
      "['/home/mila/teaching/user09', '/home/mila/teaching/user09/.conda/envs/fb-env/lib/python37.zip', '/home/mila/teaching/user09/.conda/envs/fb-env/lib/python3.7', '/home/mila/teaching/user09/.conda/envs/fb-env/lib/python3.7/lib-dynload', '', '/home/mila/teaching/user09/.conda/envs/fb-env/lib/python3.7/site-packages', '/home/mila/teaching/user09/.conda/envs/fb-env/lib/python3.7/site-packages/IPython/extensions', '/home/mila/teaching/user09/.ipython', '/home/mila/teaching/user09/new_data/Train/Image/', '/home/mila/teaching/user09/new_data/Train/Profile/', '/home/mila/teaching/user09/new_data/Train/Text/', '/home/mila/teaching/user09/new_data/Train/Image/', '/home/mila/teaching/user09/new_data/Train/Profile/', '/home/mila/teaching/user09/new_data/Train/Text/']\n"
     ]
    }
   ],
   "source": [
    "path_to_images = \"/home/mila/teaching/user09/new_data/Train/Image/\"\n",
    "path_to_profile = \"/home/mila/teaching/user09/new_data/Train/Profile/\"\n",
    "path_to_text = \"/home/mila/teaching/user09/new_data/Train/Text/\"\n",
    "\n",
    "sys.path.append(path_to_images)\n",
    "sys.path.append(path_to_profile)\n",
    "sys.path.append(path_to_text)\n",
    "\n",
    "print(sys.path)"
   ]
  },
  {
   "cell_type": "markdown",
   "metadata": {},
   "source": [
    "### I. Set up dataframe with original features"
   ]
  },
  {
   "cell_type": "code",
   "execution_count": 4,
   "metadata": {},
   "outputs": [],
   "source": [
    "img_df = pd.read_csv(path_to_images + \"oxford.csv\")\n",
    "profile_df = pd.read_csv(path_to_profile + \"Profile.csv\")"
   ]
  },
  {
   "cell_type": "code",
   "execution_count": 5,
   "metadata": {
    "scrolled": false
   },
   "outputs": [
    {
     "data": {
      "text/html": [
       "<div>\n",
       "<style scoped>\n",
       "    .dataframe tbody tr th:only-of-type {\n",
       "        vertical-align: middle;\n",
       "    }\n",
       "\n",
       "    .dataframe tbody tr th {\n",
       "        vertical-align: top;\n",
       "    }\n",
       "\n",
       "    .dataframe thead th {\n",
       "        text-align: right;\n",
       "    }\n",
       "</style>\n",
       "<table border=\"1\" class=\"dataframe\">\n",
       "  <thead>\n",
       "    <tr style=\"text-align: right;\">\n",
       "      <th></th>\n",
       "      <th>userId</th>\n",
       "      <th>faceID</th>\n",
       "      <th>faceRectangle_width</th>\n",
       "      <th>faceRectangle_height</th>\n",
       "      <th>faceRectangle_left</th>\n",
       "      <th>faceRectangle_top</th>\n",
       "      <th>pupilLeft_x</th>\n",
       "      <th>pupilLeft_y</th>\n",
       "      <th>pupilRight_x</th>\n",
       "      <th>pupilRight_y</th>\n",
       "      <th>...</th>\n",
       "      <th>underLipTop_x</th>\n",
       "      <th>underLipTop_y</th>\n",
       "      <th>underLipBottom_x</th>\n",
       "      <th>underLipBottom_y</th>\n",
       "      <th>facialHair_mustache</th>\n",
       "      <th>facialHair_beard</th>\n",
       "      <th>facialHair_sideburns</th>\n",
       "      <th>headPose_roll</th>\n",
       "      <th>headPose_yaw</th>\n",
       "      <th>headPose_pitch</th>\n",
       "    </tr>\n",
       "  </thead>\n",
       "  <tbody>\n",
       "    <tr>\n",
       "      <td>0</td>\n",
       "      <td>0000e06e07496624211632e8e264126c</td>\n",
       "      <td>f7e072db-8532-4686-9074-27e83fee5e94</td>\n",
       "      <td>61</td>\n",
       "      <td>61</td>\n",
       "      <td>15</td>\n",
       "      <td>49</td>\n",
       "      <td>32.7</td>\n",
       "      <td>64.7</td>\n",
       "      <td>59.7</td>\n",
       "      <td>65.0</td>\n",
       "      <td>...</td>\n",
       "      <td>41.8</td>\n",
       "      <td>94.3</td>\n",
       "      <td>41.9</td>\n",
       "      <td>98.6</td>\n",
       "      <td>0.0</td>\n",
       "      <td>0.0</td>\n",
       "      <td>0.0</td>\n",
       "      <td>3.9</td>\n",
       "      <td>-22.4</td>\n",
       "      <td>0.0</td>\n",
       "    </tr>\n",
       "  </tbody>\n",
       "</table>\n",
       "<p>1 rows × 66 columns</p>\n",
       "</div>"
      ],
      "text/plain": [
       "                             userId                                faceID  \\\n",
       "0  0000e06e07496624211632e8e264126c  f7e072db-8532-4686-9074-27e83fee5e94   \n",
       "\n",
       "   faceRectangle_width  faceRectangle_height  faceRectangle_left  \\\n",
       "0                   61                    61                  15   \n",
       "\n",
       "   faceRectangle_top  pupilLeft_x  pupilLeft_y  pupilRight_x  pupilRight_y  \\\n",
       "0                 49         32.7         64.7          59.7          65.0   \n",
       "\n",
       "   ...  underLipTop_x  underLipTop_y  underLipBottom_x  underLipBottom_y  \\\n",
       "0  ...           41.8           94.3              41.9              98.6   \n",
       "\n",
       "   facialHair_mustache  facialHair_beard  facialHair_sideburns  headPose_roll  \\\n",
       "0                  0.0               0.0                   0.0            3.9   \n",
       "\n",
       "   headPose_yaw  headPose_pitch  \n",
       "0         -22.4             0.0  \n",
       "\n",
       "[1 rows x 66 columns]"
      ]
     },
     "execution_count": 5,
     "metadata": {},
     "output_type": "execute_result"
    }
   ],
   "source": [
    "img_df.head(n=1)"
   ]
  },
  {
   "cell_type": "code",
   "execution_count": 6,
   "metadata": {},
   "outputs": [],
   "source": [
    "def extract_gender(df: pd.Series) -> int:\n",
    "    return profile_df[profile_df[\"userid\"] == df['userId']][\"gender\"].item()"
   ]
  },
  {
   "cell_type": "code",
   "execution_count": 7,
   "metadata": {},
   "outputs": [
    {
     "name": "stderr",
     "output_type": "stream",
     "text": [
      "/home/mila/teaching/user09/.conda/envs/fb-env/lib/python3.7/site-packages/ipykernel_launcher.py:2: FutureWarning: `item` has been deprecated and will be removed in a future version\n",
      "  \n"
     ]
    }
   ],
   "source": [
    "genders = [extract_gender(row[1]) for row in img_df.iterrows()]"
   ]
  },
  {
   "cell_type": "markdown",
   "metadata": {},
   "source": [
    "### II. Set up functions for experiments"
   ]
  },
  {
   "cell_type": "code",
   "execution_count": 8,
   "metadata": {},
   "outputs": [],
   "source": [
    "from sklearn.model_selection import validation_curve"
   ]
  },
  {
   "cell_type": "code",
   "execution_count": 9,
   "metadata": {},
   "outputs": [],
   "source": [
    "from sklearn.ensemble import GradientBoostingClassifier\n",
    "from collections import namedtuple\n",
    "import numpy as np\n",
    "import matplotlib.pyplot as plt"
   ]
  },
  {
   "cell_type": "code",
   "execution_count": 10,
   "metadata": {},
   "outputs": [],
   "source": [
    "Data = namedtuple(\"Data\", ['X', 'y'])\n",
    "NAVY = \"#001f3f\"\n",
    "\n",
    "\n",
    "def experiment(estimator, preprocessed_train, hyper_parameter_name, hyper_parameter_values, x_axis_label):\n",
    "    train_scores, valid_scores = validation_curve(estimator,\n",
    "                                                  preprocessed_train.X,\n",
    "                                                  preprocessed_train.y,\n",
    "                                                  hyper_parameter_name,\n",
    "                                                  hyper_parameter_values,\n",
    "                                                  cv=4,\n",
    "                                                  verbose=3,\n",
    "                                                  n_jobs=3,\n",
    "                                                  scoring=\"accuracy\")\n",
    "    train_scores_mean = np.mean(train_scores, axis=1)\n",
    "    train_scores_std = np.std(train_scores, axis=1)\n",
    "    valid_scores_mean = np.mean(valid_scores, axis=1)\n",
    "    valid_scores_std = np.std(valid_scores, axis=1)\n",
    "    plt.title(\"Validation Curve with xgboost for gender classification\")\n",
    "    plt.xlabel(x_axis_label)\n",
    "    plt.ylabel(\"Accuracy\")\n",
    "    lw = 2\n",
    "\n",
    "    plt.plot(hyper_parameter_values, train_scores_mean, label=\"Training Accuracy\",\n",
    "                 color=\"darkorange\", lw=lw)\n",
    "    plt.fill_between(hyper_parameter_values, train_scores_mean - train_scores_std,\n",
    "                     train_scores_mean + train_scores_std, alpha=0.2,\n",
    "                     color=\"darkorange\", lw=lw)\n",
    "    plt.plot(hyper_parameter_values, valid_scores_mean, label=\"Cross-Validation Accuracy\",\n",
    "                 color=NAVY, lw=lw)\n",
    "    plt.fill_between(hyper_parameter_values, valid_scores_mean - valid_scores_std,\n",
    "                     valid_scores_mean + valid_scores_std, alpha=0.2,\n",
    "                     color=NAVY, lw=lw)\n",
    "    print(\"Training Accuracy:\", train_scores)\n",
    "    print(\"Valid Accuracy:\", valid_scores)\n",
    "    plt.legend(loc=\"best\")\n",
    "    plt.show()"
   ]
  },
  {
   "cell_type": "markdown",
   "metadata": {},
   "source": [
    "### III. Experiments with original features"
   ]
  },
  {
   "cell_type": "code",
   "execution_count": 11,
   "metadata": {},
   "outputs": [],
   "source": [
    "img_df = img_df.assign(gender=genders)"
   ]
  },
  {
   "cell_type": "code",
   "execution_count": 12,
   "metadata": {},
   "outputs": [],
   "source": [
    "features, labels = img_df.drop([\"userId\", \"faceID\", \"gender\"], axis=1), img_df[\"gender\"]"
   ]
  },
  {
   "cell_type": "code",
   "execution_count": 13,
   "metadata": {},
   "outputs": [],
   "source": [
    "training_data = Data(X=features.values, y=labels.values)"
   ]
  },
  {
   "cell_type": "code",
   "execution_count": 14,
   "metadata": {},
   "outputs": [
    {
     "name": "stderr",
     "output_type": "stream",
     "text": [
      "[Parallel(n_jobs=3)]: Using backend LokyBackend with 3 concurrent workers.\n",
      "[Parallel(n_jobs=3)]: Done   7 out of  24 | elapsed:    4.7s remaining:   11.3s\n",
      "[Parallel(n_jobs=3)]: Done  16 out of  24 | elapsed:    9.2s remaining:    4.6s\n"
     ]
    },
    {
     "name": "stdout",
     "output_type": "stream",
     "text": [
      "Training Accuracy: [[0.86840775 0.8731469  0.8733367  0.8762001 ]\n",
      " [0.86908172 0.87348383 0.87434731 0.8762001 ]\n",
      " [0.87379949 0.87769542 0.8756948  0.88024255]\n",
      " [0.88104465 0.88258086 0.88310595 0.88512717]\n",
      " [0.88744735 0.89033019 0.89001179 0.89085397]\n",
      " [0.89283909 0.89487871 0.89506485 0.8967492 ]]\n",
      "Valid Accuracy: [[0.88232323 0.86558868 0.87512639 0.86046512]\n",
      " [0.88181818 0.86508338 0.87563195 0.86097068]\n",
      " [0.88080808 0.86609399 0.87563195 0.86299292]\n",
      " [0.88131313 0.86255685 0.87411527 0.86046512]\n",
      " [0.88080808 0.86255685 0.87007078 0.85692619]\n",
      " [0.88131313 0.86205154 0.87007078 0.85793731]]\n"
     ]
    },
    {
     "name": "stderr",
     "output_type": "stream",
     "text": [
      "[Parallel(n_jobs=3)]: Done  24 out of  24 | elapsed:   14.8s finished\n"
     ]
    },
    {
     "data": {
      "image/png": "[encoded data removed]",
      "text/plain": [
       "<Figure size 432x288 with 1 Axes>"
      ]
     },
     "metadata": {
      "needs_background": "light"
     },
     "output_type": "display_data"
    }
   ],
   "source": [
    "# Experiment 1: CV on Number of Boosting Stages.\n",
    "\n",
    "from xgboost import XGBClassifier\n",
    "experiment(XGBClassifier(max_depth=3, learning_rate=0.1),\n",
    "           training_data,\n",
    "           \"n_estimators\",\n",
    "           [10, 20, 50, 100, 150, 200],\n",
    "           \"Number of Estimators\")"
   ]
  },
  {
   "cell_type": "code",
   "execution_count": 15,
   "metadata": {},
   "outputs": [
    {
     "name": "stderr",
     "output_type": "stream",
     "text": [
      "[Parallel(n_jobs=3)]: Using backend LokyBackend with 3 concurrent workers.\n",
      "[Parallel(n_jobs=3)]: Done   3 out of  12 | elapsed:    2.4s remaining:    7.3s\n",
      "[Parallel(n_jobs=3)]: Done   8 out of  12 | elapsed:    4.0s remaining:    2.0s\n"
     ]
    },
    {
     "name": "stdout",
     "output_type": "stream",
     "text": [
      "Training Accuracy: [[0.8673968  0.87230458 0.86929426 0.87451575]\n",
      " [0.87379949 0.87769542 0.8756948  0.88024255]\n",
      " [0.89772536 0.89706873 0.89472798 0.89826512]]\n",
      "Valid Accuracy: [[0.88131313 0.86457807 0.87360971 0.85389282]\n",
      " [0.88080808 0.86609399 0.87563195 0.86299292]\n",
      " [0.88080808 0.86659929 0.87462083 0.85692619]]\n"
     ]
    },
    {
     "name": "stderr",
     "output_type": "stream",
     "text": [
      "[Parallel(n_jobs=3)]: Done  12 out of  12 | elapsed:    6.0s finished\n"
     ]
    },
    {
     "data": {
      "image/png": "[encoded data removed]",
      "text/plain": [
       "<Figure size 432x288 with 1 Axes>"
      ]
     },
     "metadata": {
      "needs_background": "light"
     },
     "output_type": "display_data"
    }
   ],
   "source": [
    "# Experiment 2: CV on Max Depth.\n",
    "\n",
    "experiment(XGBClassifier(n_estimators=50),\n",
    "           training_data,\n",
    "           \"max_depth\",\n",
    "           [2, 3, 5],\n",
    "           \"Max Depth\")"
   ]
  },
  {
   "cell_type": "code",
   "execution_count": 16,
   "metadata": {
    "scrolled": true
   },
   "outputs": [
    {
     "name": "stderr",
     "output_type": "stream",
     "text": [
      "[Parallel(n_jobs=3)]: Using backend LokyBackend with 3 concurrent workers.\n",
      "[Parallel(n_jobs=3)]: Done   3 out of  12 | elapsed:    2.1s remaining:    6.2s\n",
      "[Parallel(n_jobs=3)]: Done   8 out of  12 | elapsed:    3.8s remaining:    1.9s\n"
     ]
    },
    {
     "name": "stdout",
     "output_type": "stream",
     "text": [
      "Training Accuracy: [[0.87379949 0.87769542 0.8756948  0.88024255]\n",
      " [0.86722831 0.87264151 0.87215766 0.87636854]\n",
      " [0.86655434 0.87264151 0.87215766 0.87653697]]\n",
      "Valid Accuracy: [[0.88080808 0.86609399 0.87563195 0.86299292]\n",
      " [0.88181818 0.86407276 0.87563195 0.85995956]\n",
      " [0.88333333 0.86407276 0.87411527 0.86046512]]\n"
     ]
    },
    {
     "name": "stderr",
     "output_type": "stream",
     "text": [
      "[Parallel(n_jobs=3)]: Done  12 out of  12 | elapsed:    4.7s finished\n"
     ]
    },
    {
     "data": {
      "image/png": "[encoded data removed]",
      "text/plain": [
       "<Figure size 432x288 with 1 Axes>"
      ]
     },
     "metadata": {
      "needs_background": "light"
     },
     "output_type": "display_data"
    }
   ],
   "source": [
    "# Experiment 3: CV on the Learning Rate.\n",
    "\n",
    "experiment(XGBClassifier(n_estimators=50, max_depth=3),\n",
    "           training_data,\n",
    "           \"learning_rate\",\n",
    "           [0.1, 0.01, 0.001],\n",
    "           \"Learning Rate\")"
   ]
  },
  {
   "cell_type": "markdown",
   "metadata": {},
   "source": [
    "### IV. Experiments with engineered features"
   ]
  },
  {
   "cell_type": "markdown",
   "metadata": {},
   "source": [
    "#### function to calculate the euclidean distance between 2 points"
   ]
  },
  {
   "cell_type": "code",
   "execution_count": 20,
   "metadata": {},
   "outputs": [],
   "source": [
    "def euclidean_dist(a, b):\n",
    "    \n",
    "    \"\"\"\n",
    "    calculates the euclidean distance between 2 points\n",
    "    \"\"\"\n",
    "    \n",
    "    assert a.shape == b.shape, \"a and b must have the same shape\"\n",
    "    \n",
    "    return np.sqrt(((a-b) ** (2)).sum(axis=0))"
   ]
  },
  {
   "cell_type": "code",
   "execution_count": 21,
   "metadata": {
    "scrolled": true
   },
   "outputs": [],
   "source": [
    "img_df_new = img_df.assign(pupilLeftRight = lambda x: euclidean_dist(np.array([img_df['pupilLeft_x'], img_df['pupilLeft_y']]),\n",
    "                                                                 np.array([img_df['pupilRight_x'], img_df['pupilRight_y']])), \n",
    "                       mouthLeftRight = lambda x: euclidean_dist(np.array([img_df['mouthLeft_x'], img_df['mouthLeft_y']]),\n",
    "                                                                 np.array([img_df['mouthRight_x'], img_df['mouthRight_y']])),\n",
    "                       eyebrowLeftRightOuter = lambda x: euclidean_dist(np.array([img_df['eyebrowLeftOuter_x'], img_df['eyebrowLeftOuter_y']]),\n",
    "                                                                        np.array([img_df['eyebrowRightOuter_x'], img_df['eyebrowRightOuter_y']])),\n",
    "                       eyebrowLeftRightInner = lambda x: euclidean_dist(np.array([img_df['eyebrowLeftInner_x'], img_df['eyebrowLeftInner_y']]),\n",
    "                                                                        np.array([img_df['eyebrowRightInner_x'], img_df['eyebrowRightInner_y']])),                       \n",
    "                       eyeLeftRightOuter = lambda x: euclidean_dist(np.array([img_df['eyeLeftOuter_x'], img_df['eyeLeftOuter_y']]),\n",
    "                                                                    np.array([img_df['eyeRightOuter_x'], img_df['eyeRightOuter_y']])),\n",
    "                       eyeLeftRightInner = lambda x: euclidean_dist(np.array([img_df['eyeLeftInner_x'], img_df['eyeLeftInner_y']]),\n",
    "                                                                    np.array([img_df['eyeRightInner_x'], img_df['eyeRightInner_y']])),\n",
    "                       eyeLeftTopBottom = lambda x: euclidean_dist(np.array([img_df['eyeLeftTop_x'], img_df['eyeLeftTop_y']]),\n",
    "                                                                   np.array([img_df['eyeLeftBottom_x'], img_df['eyeLeftBottom_y']])),\n",
    "                       eyeRightTopBottom = lambda x: euclidean_dist(np.array([img_df['eyeRightTop_x'], img_df['eyeRightTop_y']]),\n",
    "                                                                    np.array([img_df['eyeRightBottom_x'], img_df['eyeRightBottom_y']])),\n",
    "                       noseRootLeftRight = lambda x: euclidean_dist(np.array([img_df['noseRootLeft_x'], img_df['noseRootLeft_y']]),\n",
    "                                                                    np.array([img_df['noseRootRight_x'], img_df['noseRootRight_y']])),\n",
    "                       noseLeftRightAlarTop = lambda x: euclidean_dist(np.array([img_df['noseLeftAlarTop_x'], img_df['noseLeftAlarTop_y']]),\n",
    "                                                                       np.array([img_df['noseRightAlarTop_x'], img_df['noseRightAlarTop_y']])),\n",
    "                       noseLeftRightAlarOutTip = lambda x: euclidean_dist(np.array([img_df['noseLeftAlarOutTip_x'], img_df['noseLeftAlarOutTip_y']]),\n",
    "                                                                          np.array([img_df['noseRightAlarOutTip_x'], img_df['noseRightAlarOutTip_x']])),\n",
    "                       upperLipTopBottom = lambda x: euclidean_dist(np.array([img_df['upperLipTop_x'], img_df['upperLipTop_y']]),\n",
    "                                                                    np.array([img_df['upperLipBottom_x'], img_df['upperLipBottom_y']])),\n",
    "                       underLipTopBottom = lambda x: euclidean_dist(np.array([img_df['underLipTop_x'], img_df['underLipTop_y']]),\n",
    "                                                                    np.array([img_df['underLipBottom_x'], img_df['underLipBottom_y']])))\n"
   ]
  },
  {
   "cell_type": "markdown",
   "metadata": {},
   "source": [
    "#### Check for duplicates, make a function to take the faceID that has a greater faceRectangle area"
   ]
  },
  {
   "cell_type": "code",
   "execution_count": 22,
   "metadata": {},
   "outputs": [
    {
     "data": {
      "text/html": [
       "<div>\n",
       "<style scoped>\n",
       "    .dataframe tbody tr th:only-of-type {\n",
       "        vertical-align: middle;\n",
       "    }\n",
       "\n",
       "    .dataframe tbody tr th {\n",
       "        vertical-align: top;\n",
       "    }\n",
       "\n",
       "    .dataframe thead th {\n",
       "        text-align: right;\n",
       "    }\n",
       "</style>\n",
       "<table border=\"1\" class=\"dataframe\">\n",
       "  <thead>\n",
       "    <tr style=\"text-align: right;\">\n",
       "      <th></th>\n",
       "      <th>userId</th>\n",
       "      <th>faceID</th>\n",
       "      <th>faceRectangle_width</th>\n",
       "      <th>faceRectangle_height</th>\n",
       "      <th>faceRectangle_left</th>\n",
       "      <th>faceRectangle_top</th>\n",
       "      <th>pupilLeft_x</th>\n",
       "      <th>pupilLeft_y</th>\n",
       "      <th>pupilRight_x</th>\n",
       "      <th>pupilRight_y</th>\n",
       "      <th>...</th>\n",
       "      <th>eyeLeftRightOuter</th>\n",
       "      <th>eyeLeftRightInner</th>\n",
       "      <th>eyeLeftTopBottom</th>\n",
       "      <th>eyeRightTopBottom</th>\n",
       "      <th>noseRootLeftRight</th>\n",
       "      <th>noseLeftRightAlarTop</th>\n",
       "      <th>noseLeftRightAlarOutTip</th>\n",
       "      <th>upperLipTopBottom</th>\n",
       "      <th>underLipTopBottom</th>\n",
       "      <th>faceRectangle_area</th>\n",
       "    </tr>\n",
       "  </thead>\n",
       "  <tbody>\n",
       "    <tr>\n",
       "      <td>0</td>\n",
       "      <td>0000e06e07496624211632e8e264126c</td>\n",
       "      <td>f7e072db-8532-4686-9074-27e83fee5e94</td>\n",
       "      <td>61</td>\n",
       "      <td>61</td>\n",
       "      <td>15</td>\n",
       "      <td>49</td>\n",
       "      <td>32.7</td>\n",
       "      <td>64.7</td>\n",
       "      <td>59.7</td>\n",
       "      <td>65.0</td>\n",
       "      <td>...</td>\n",
       "      <td>38.125713</td>\n",
       "      <td>17.301156</td>\n",
       "      <td>5.178803</td>\n",
       "      <td>4.401136</td>\n",
       "      <td>8.000625</td>\n",
       "      <td>12.110326</td>\n",
       "      <td>34.609247</td>\n",
       "      <td>3.014963</td>\n",
       "      <td>4.301163</td>\n",
       "      <td>3721</td>\n",
       "    </tr>\n",
       "    <tr>\n",
       "      <td>1</td>\n",
       "      <td>000235a2ba2f48231b7d24e1f08d7878</td>\n",
       "      <td>934b5179-acec-4dea-a348-feae87767c2d</td>\n",
       "      <td>83</td>\n",
       "      <td>83</td>\n",
       "      <td>91</td>\n",
       "      <td>95</td>\n",
       "      <td>114.4</td>\n",
       "      <td>117.6</td>\n",
       "      <td>154.5</td>\n",
       "      <td>121.0</td>\n",
       "      <td>...</td>\n",
       "      <td>51.056929</td>\n",
       "      <td>27.894982</td>\n",
       "      <td>2.236068</td>\n",
       "      <td>3.106445</td>\n",
       "      <td>12.946814</td>\n",
       "      <td>15.404220</td>\n",
       "      <td>26.224607</td>\n",
       "      <td>4.304649</td>\n",
       "      <td>5.115662</td>\n",
       "      <td>6889</td>\n",
       "    </tr>\n",
       "  </tbody>\n",
       "</table>\n",
       "<p>2 rows × 81 columns</p>\n",
       "</div>"
      ],
      "text/plain": [
       "                             userId                                faceID  \\\n",
       "0  0000e06e07496624211632e8e264126c  f7e072db-8532-4686-9074-27e83fee5e94   \n",
       "1  000235a2ba2f48231b7d24e1f08d7878  934b5179-acec-4dea-a348-feae87767c2d   \n",
       "\n",
       "   faceRectangle_width  faceRectangle_height  faceRectangle_left  \\\n",
       "0                   61                    61                  15   \n",
       "1                   83                    83                  91   \n",
       "\n",
       "   faceRectangle_top  pupilLeft_x  pupilLeft_y  pupilRight_x  pupilRight_y  \\\n",
       "0                 49         32.7         64.7          59.7          65.0   \n",
       "1                 95        114.4        117.6         154.5         121.0   \n",
       "\n",
       "   ...  eyeLeftRightOuter  eyeLeftRightInner  eyeLeftTopBottom  \\\n",
       "0  ...          38.125713          17.301156          5.178803   \n",
       "1  ...          51.056929          27.894982          2.236068   \n",
       "\n",
       "   eyeRightTopBottom  noseRootLeftRight  noseLeftRightAlarTop  \\\n",
       "0           4.401136           8.000625             12.110326   \n",
       "1           3.106445          12.946814             15.404220   \n",
       "\n",
       "   noseLeftRightAlarOutTip  upperLipTopBottom  underLipTopBottom  \\\n",
       "0                34.609247           3.014963           4.301163   \n",
       "1                26.224607           4.304649           5.115662   \n",
       "\n",
       "   faceRectangle_area  \n",
       "0                3721  \n",
       "1                6889  \n",
       "\n",
       "[2 rows x 81 columns]"
      ]
     },
     "execution_count": 22,
     "metadata": {},
     "output_type": "execute_result"
    }
   ],
   "source": [
    "img_df_new = img_df_new.assign(faceRectangle_area = lambda x: img_df_new['faceRectangle_width'] * img_df_new['faceRectangle_height'])\n",
    "img_df_new = img_df_new.assign(gender = genders)\n",
    "\n",
    "img_df_new.head(n=2)"
   ]
  },
  {
   "cell_type": "code",
   "execution_count": 23,
   "metadata": {},
   "outputs": [
    {
     "data": {
      "text/html": [
       "<div>\n",
       "<style scoped>\n",
       "    .dataframe tbody tr th:only-of-type {\n",
       "        vertical-align: middle;\n",
       "    }\n",
       "\n",
       "    .dataframe tbody tr th {\n",
       "        vertical-align: top;\n",
       "    }\n",
       "\n",
       "    .dataframe thead th {\n",
       "        text-align: right;\n",
       "    }\n",
       "</style>\n",
       "<table border=\"1\" class=\"dataframe\">\n",
       "  <thead>\n",
       "    <tr style=\"text-align: right;\">\n",
       "      <th></th>\n",
       "      <th>userId</th>\n",
       "      <th>faceID</th>\n",
       "      <th>faceRectangle_width</th>\n",
       "      <th>faceRectangle_height</th>\n",
       "      <th>faceRectangle_left</th>\n",
       "      <th>faceRectangle_top</th>\n",
       "      <th>pupilLeft_x</th>\n",
       "      <th>pupilLeft_y</th>\n",
       "      <th>pupilRight_x</th>\n",
       "      <th>pupilRight_y</th>\n",
       "      <th>...</th>\n",
       "      <th>eyeLeftRightOuter</th>\n",
       "      <th>eyeLeftRightInner</th>\n",
       "      <th>eyeLeftTopBottom</th>\n",
       "      <th>eyeRightTopBottom</th>\n",
       "      <th>noseRootLeftRight</th>\n",
       "      <th>noseLeftRightAlarTop</th>\n",
       "      <th>noseLeftRightAlarOutTip</th>\n",
       "      <th>upperLipTopBottom</th>\n",
       "      <th>underLipTopBottom</th>\n",
       "      <th>faceRectangle_area</th>\n",
       "    </tr>\n",
       "  </thead>\n",
       "  <tbody>\n",
       "  </tbody>\n",
       "</table>\n",
       "<p>0 rows × 81 columns</p>\n",
       "</div>"
      ],
      "text/plain": [
       "Empty DataFrame\n",
       "Columns: [userId, faceID, faceRectangle_width, faceRectangle_height, faceRectangle_left, faceRectangle_top, pupilLeft_x, pupilLeft_y, pupilRight_x, pupilRight_y, noseTip_x, noseTip_y, mouthLeft_x, mouthLeft_y, mouthRight_x, mouthRight_y, eyebrowLeftOuter_x, eyebrowLeftOuter_y, eyebrowLeftInner_x, eyebrowLeftInner_y, eyeLeftOuter_x, eyeLeftOuter_y, eyeLeftTop_x, eyeLeftTop_y, eyeLeftBottom_x, eyeLeftBottom_y, eyeLeftInner_x, eyeLeftInner_y, eyebrowRightInner_x, eyebrowRightInner_y, eyebrowRightOuter_x, eyebrowRightOuter_y, eyeRightInner_x, eyeRightInner_y, eyeRightTop_x, eyeRightTop_y, eyeRightBottom_x, eyeRightBottom_y, eyeRightOuter_x, eyeRightOuter_y, noseRootLeft_x, noseRootLeft_y, noseRootRight_x, noseRootRight_y, noseLeftAlarTop_x, noseLeftAlarTop_y, noseRightAlarTop_x, noseRightAlarTop_y, noseLeftAlarOutTip_x, noseLeftAlarOutTip_y, noseRightAlarOutTip_x, noseRightAlarOutTip_y, upperLipTop_x, upperLipTop_y, upperLipBottom_x, upperLipBottom_y, underLipTop_x, underLipTop_y, underLipBottom_x, underLipBottom_y, facialHair_mustache, facialHair_beard, facialHair_sideburns, headPose_roll, headPose_yaw, headPose_pitch, gender, pupilLeftRight, mouthLeftRight, eyebrowLeftRightOuter, eyebrowLeftRightInner, eyeLeftRightOuter, eyeLeftRightInner, eyeLeftTopBottom, eyeRightTopBottom, noseRootLeftRight, noseLeftRightAlarTop, noseLeftRightAlarOutTip, upperLipTopBottom, underLipTopBottom, faceRectangle_area]\n",
       "Index: []\n",
       "\n",
       "[0 rows x 81 columns]"
      ]
     },
     "execution_count": 23,
     "metadata": {},
     "output_type": "execute_result"
    }
   ],
   "source": [
    "duplicates = img_df_new[img_df_new.duplicated(['userId'])]\n",
    "\n",
    "for userid in duplicates['userId']:\n",
    "    \n",
    "    df = img_df_new[img_df_new['userId'] == userid]\n",
    "    faceID_used = df[df['faceRectangle_area'] == df['faceRectangle_area'].max()][\"faceID\"]\n",
    "    img_df_new = img_df_new[img_df_new['faceID'] != faceID_used.values[0]]   \n",
    "\n",
    "duplicates = img_df_new[img_df_new.duplicated(['userId'])]\n",
    "duplicates.head(n=4)"
   ]
  },
  {
   "cell_type": "markdown",
   "metadata": {},
   "source": [
    "#### Don't run this cell if you want to keep the original columns"
   ]
  },
  {
   "cell_type": "code",
   "execution_count": 109,
   "metadata": {},
   "outputs": [],
   "source": [
    "for column in img_df_new.columns:\n",
    "    if column[-1] == 'x' or column[-1] == 'y':\n",
    "        img_df_new = img_df_new.drop(columns = column)\n",
    "    else:\n",
    "        continue"
   ]
  },
  {
   "cell_type": "code",
   "execution_count": 110,
   "metadata": {
    "scrolled": true
   },
   "outputs": [
    {
     "name": "stdout",
     "output_type": "stream",
     "text": [
      "Index(['userId', 'faceID', 'faceRectangle_width', 'faceRectangle_height',\n",
      "       'faceRectangle_left', 'faceRectangle_top', 'facialHair_mustache',\n",
      "       'facialHair_beard', 'facialHair_sideburns', 'headPose_roll',\n",
      "       'headPose_yaw', 'headPose_pitch', 'pupilLeftRight', 'mouthLeftRight',\n",
      "       'eyebrowLeftRightOuter', 'eyebrowLeftRightInner', 'eyeLeftRightOuter',\n",
      "       'eyeLeftRightInner', 'eyeLeftTopBottom', 'eyeRightTopBottom',\n",
      "       'noseRootLeftRight', 'noseLeftRightAlarTop', 'noseLeftRightAlarOutTip',\n",
      "       'upperLipTopBottom', 'underLipTopBottom', 'faceRectangle_area',\n",
      "       'gender'],\n",
      "      dtype='object')\n"
     ]
    }
   ],
   "source": [
    "print(img_df_new.columns)"
   ]
  },
  {
   "cell_type": "code",
   "execution_count": 111,
   "metadata": {},
   "outputs": [
    {
     "data": {
      "text/html": [
       "<div>\n",
       "<style scoped>\n",
       "    .dataframe tbody tr th:only-of-type {\n",
       "        vertical-align: middle;\n",
       "    }\n",
       "\n",
       "    .dataframe tbody tr th {\n",
       "        vertical-align: top;\n",
       "    }\n",
       "\n",
       "    .dataframe thead th {\n",
       "        text-align: right;\n",
       "    }\n",
       "</style>\n",
       "<table border=\"1\" class=\"dataframe\">\n",
       "  <thead>\n",
       "    <tr style=\"text-align: right;\">\n",
       "      <th></th>\n",
       "      <th>userId</th>\n",
       "      <th>faceID</th>\n",
       "      <th>faceRectangle_width</th>\n",
       "      <th>faceRectangle_height</th>\n",
       "      <th>faceRectangle_left</th>\n",
       "      <th>faceRectangle_top</th>\n",
       "      <th>facialHair_mustache</th>\n",
       "      <th>facialHair_beard</th>\n",
       "      <th>facialHair_sideburns</th>\n",
       "      <th>headPose_roll</th>\n",
       "      <th>...</th>\n",
       "      <th>eyeLeftRightInner</th>\n",
       "      <th>eyeLeftTopBottom</th>\n",
       "      <th>eyeRightTopBottom</th>\n",
       "      <th>noseRootLeftRight</th>\n",
       "      <th>noseLeftRightAlarTop</th>\n",
       "      <th>noseLeftRightAlarOutTip</th>\n",
       "      <th>upperLipTopBottom</th>\n",
       "      <th>underLipTopBottom</th>\n",
       "      <th>faceRectangle_area</th>\n",
       "      <th>gender</th>\n",
       "    </tr>\n",
       "  </thead>\n",
       "  <tbody>\n",
       "    <tr>\n",
       "      <td>0</td>\n",
       "      <td>0000e06e07496624211632e8e264126c</td>\n",
       "      <td>f7e072db-8532-4686-9074-27e83fee5e94</td>\n",
       "      <td>0.153374</td>\n",
       "      <td>0.138122</td>\n",
       "      <td>0.092025</td>\n",
       "      <td>0.213974</td>\n",
       "      <td>0.0</td>\n",
       "      <td>0.0</td>\n",
       "      <td>0.0</td>\n",
       "      <td>0.593074</td>\n",
       "      <td>...</td>\n",
       "      <td>0.160862</td>\n",
       "      <td>0.264187</td>\n",
       "      <td>0.226682</td>\n",
       "      <td>0.181638</td>\n",
       "      <td>0.15885</td>\n",
       "      <td>0.162411</td>\n",
       "      <td>0.239898</td>\n",
       "      <td>0.244502</td>\n",
       "      <td>0.057894</td>\n",
       "      <td>1.0</td>\n",
       "    </tr>\n",
       "  </tbody>\n",
       "</table>\n",
       "<p>1 rows × 27 columns</p>\n",
       "</div>"
      ],
      "text/plain": [
       "                             userId                                faceID  \\\n",
       "0  0000e06e07496624211632e8e264126c  f7e072db-8532-4686-9074-27e83fee5e94   \n",
       "\n",
       "   faceRectangle_width  faceRectangle_height  faceRectangle_left  \\\n",
       "0             0.153374              0.138122            0.092025   \n",
       "\n",
       "   faceRectangle_top  facialHair_mustache  facialHair_beard  \\\n",
       "0           0.213974                  0.0               0.0   \n",
       "\n",
       "   facialHair_sideburns  headPose_roll  ...  eyeLeftRightInner  \\\n",
       "0                   0.0       0.593074  ...           0.160862   \n",
       "\n",
       "   eyeLeftTopBottom  eyeRightTopBottom  noseRootLeftRight  \\\n",
       "0          0.264187           0.226682           0.181638   \n",
       "\n",
       "   noseLeftRightAlarTop  noseLeftRightAlarOutTip  upperLipTopBottom  \\\n",
       "0               0.15885                 0.162411           0.239898   \n",
       "\n",
       "   underLipTopBottom  faceRectangle_area  gender  \n",
       "0           0.244502            0.057894     1.0  \n",
       "\n",
       "[1 rows x 27 columns]"
      ]
     },
     "execution_count": 111,
     "metadata": {},
     "output_type": "execute_result"
    }
   ],
   "source": [
    "from sklearn.preprocessing import MinMaxScaler\n",
    "\n",
    "scaler = MinMaxScaler()\n",
    "\n",
    "img_df_new[img_df_new.columns[2:-1]] = scaler.fit_transform(img_df_new[img_df_new.columns[2:-1]])\n",
    "\n",
    "img_df_new.head(n=1)"
   ]
  },
  {
   "cell_type": "code",
   "execution_count": 24,
   "metadata": {},
   "outputs": [],
   "source": [
    "features_new, labels_new = img_df_new.drop([\"userId\", \"faceID\", \"gender\"], axis=1), img_df_new[\"gender\"]"
   ]
  },
  {
   "cell_type": "code",
   "execution_count": 25,
   "metadata": {},
   "outputs": [],
   "source": [
    "training_data_new = Data(X=features_new.values, y=labels_new.values)"
   ]
  },
  {
   "cell_type": "code",
   "execution_count": 26,
   "metadata": {},
   "outputs": [
    {
     "name": "stderr",
     "output_type": "stream",
     "text": [
      "[Parallel(n_jobs=3)]: Using backend LokyBackend with 3 concurrent workers.\n",
      "[Parallel(n_jobs=3)]: Done   7 out of  24 | elapsed:    5.2s remaining:   12.7s\n",
      "[Parallel(n_jobs=3)]: Done  16 out of  24 | elapsed:   10.6s remaining:    5.3s\n",
      "[Parallel(n_jobs=3)]: Done  24 out of  24 | elapsed:   17.2s finished\n"
     ]
    },
    {
     "name": "stdout",
     "output_type": "stream",
     "text": [
      "Training Accuracy: [[0.88864101 0.89351422 0.89035495 0.89574429]\n",
      " [0.88919874 0.89277086 0.89109831 0.89555845]\n",
      " [0.89087191 0.89555845 0.89332838 0.89778852]\n",
      " [0.89700688 0.89927523 0.897231   0.90131946]\n",
      " [0.90239822 0.90522208 0.90299201 0.90652295]\n",
      " [0.90741774 0.90986805 0.9081955  0.91191228]]\n",
      "Valid Accuracy: [[0.89972145 0.88733965 0.89737869 0.88064696]\n",
      " [0.89972145 0.88733965 0.89793642 0.88120468]\n",
      " [0.90139276 0.8884551  0.89682097 0.88064696]\n",
      " [0.89916435 0.8884551  0.8951478  0.88064696]\n",
      " [0.89805014 0.88622421 0.89459007 0.88064696]\n",
      " [0.89637883 0.88455103 0.8951478  0.88008924]]\n"
     ]
    },
    {
     "data": {
      "image/png": "[encoded data removed]",
      "text/plain": [
       "<Figure size 432x288 with 1 Axes>"
      ]
     },
     "metadata": {
      "needs_background": "light"
     },
     "output_type": "display_data"
    }
   ],
   "source": [
    "# Experiment 1: CV on Number of Boosting Stages.\n",
    "\n",
    "from xgboost import XGBClassifier\n",
    "experiment(XGBClassifier(max_depth=3, learning_rate=0.1),\n",
    "           training_data_new,\n",
    "           \"n_estimators\",\n",
    "           [10, 20, 50, 100, 150, 200],\n",
    "           \"Number of Estimators\")"
   ]
  },
  {
   "cell_type": "code",
   "execution_count": 27,
   "metadata": {},
   "outputs": [
    {
     "name": "stderr",
     "output_type": "stream",
     "text": [
      "[Parallel(n_jobs=3)]: Using backend LokyBackend with 3 concurrent workers.\n",
      "[Parallel(n_jobs=3)]: Done   3 out of  12 | elapsed:    5.9s remaining:   17.7s\n",
      "[Parallel(n_jobs=3)]: Done   8 out of  12 | elapsed:    7.8s remaining:    3.9s\n"
     ]
    },
    {
     "name": "stdout",
     "output_type": "stream",
     "text": [
      "Training Accuracy: [[0.8884551  0.89258502 0.89072663 0.89500093]\n",
      " [0.89087191 0.89555845 0.89332838 0.89778852]\n",
      " [0.90630229 0.90838134 0.90931054 0.91116893]]\n",
      "Valid Accuracy: [[0.89805014 0.88678193 0.89626325 0.88008924]\n",
      " [0.90139276 0.8884551  0.89682097 0.88064696]\n",
      " [0.89805014 0.88901283 0.89682097 0.87897379]]\n"
     ]
    },
    {
     "name": "stderr",
     "output_type": "stream",
     "text": [
      "[Parallel(n_jobs=3)]: Done  12 out of  12 | elapsed:   10.0s finished\n"
     ]
    },
    {
     "data": {
      "image/png": "[encoded data removed]",
      "text/plain": [
       "<Figure size 432x288 with 1 Axes>"
      ]
     },
     "metadata": {
      "needs_background": "light"
     },
     "output_type": "display_data"
    }
   ],
   "source": [
    "# Experiment 2: CV on Max Depth.\n",
    "\n",
    "experiment(XGBClassifier(n_estimators=50),\n",
    "           training_data_new,\n",
    "           \"max_depth\",\n",
    "           [2, 3, 5],\n",
    "           \"Max Depth\")"
   ]
  },
  {
   "cell_type": "code",
   "execution_count": 28,
   "metadata": {
    "scrolled": true
   },
   "outputs": [
    {
     "name": "stderr",
     "output_type": "stream",
     "text": [
      "[Parallel(n_jobs=3)]: Using backend LokyBackend with 3 concurrent workers.\n",
      "[Parallel(n_jobs=3)]: Done   3 out of  12 | elapsed:    2.2s remaining:    6.6s\n",
      "[Parallel(n_jobs=3)]: Done   8 out of  12 | elapsed:    4.2s remaining:    2.1s\n"
     ]
    },
    {
     "name": "stdout",
     "output_type": "stream",
     "text": [
      "Training Accuracy: [[0.88919874 0.89314254 0.89016911 0.89574429]\n",
      " [0.89087191 0.89555845 0.89332838 0.89778852]\n",
      " [0.89403235 0.89853187 0.89648764 0.89964691]]\n",
      "Valid Accuracy: [[0.89972145 0.88733965 0.89737869 0.88064696]\n",
      " [0.90139276 0.8884551  0.89682097 0.88064696]\n",
      " [0.89916435 0.88789738 0.89682097 0.88120468]]\n"
     ]
    },
    {
     "name": "stderr",
     "output_type": "stream",
     "text": [
      "[Parallel(n_jobs=3)]: Done  12 out of  12 | elapsed:    5.2s finished\n"
     ]
    },
    {
     "data": {
      "image/png": "[encoded data removed]",
      "text/plain": [
       "<Figure size 432x288 with 1 Axes>"
      ]
     },
     "metadata": {
      "needs_background": "light"
     },
     "output_type": "display_data"
    }
   ],
   "source": [
    "# Experiment 3: CV on the Learning Rate.\n",
    "\n",
    "experiment(XGBClassifier(n_estimators=50, max_depth=3),\n",
    "           training_data_new,\n",
    "           \"learning_rate\",\n",
    "           [0.01, 0.1, 0.15],\n",
    "           \"Learning Rate\")"
   ]
  },
  {
   "cell_type": "markdown",
   "metadata": {},
   "source": [
    "### Bayesian optimization"
   ]
  },
  {
   "cell_type": "markdown",
   "metadata": {},
   "source": [
    "#### accuracy with current hyperparams"
   ]
  },
  {
   "cell_type": "code",
   "execution_count": 115,
   "metadata": {},
   "outputs": [],
   "source": [
    "estimator = ensemble.GradientBoostingClassifier(learning_rate = 0.1,\n",
    "                                                n_estimators = 25,\n",
    "                                                max_depth = 3)\n",
    "\n",
    "scores = cross_validate(estimator, \n",
    "                        training_data_new.X, \n",
    "                        training_data_new.y, \n",
    "                        cv=4,\n",
    "                        scoring=\"accuracy\")"
   ]
  },
  {
   "cell_type": "code",
   "execution_count": 116,
   "metadata": {},
   "outputs": [
    {
     "name": "stdout",
     "output_type": "stream",
     "text": [
      "0.8914109652672806\n"
     ]
    }
   ],
   "source": [
    "print(scores['test_score'].mean())"
   ]
  },
  {
   "cell_type": "markdown",
   "metadata": {},
   "source": [
    "#### Hyperparam search using hyperopt"
   ]
  },
  {
   "cell_type": "code",
   "execution_count": 112,
   "metadata": {},
   "outputs": [],
   "source": [
    "from sklearn import ensemble\n",
    "from hyperopt import fmin, tpe, hp, STATUS_OK, Trials\n",
    "from sklearn.model_selection import cross_validate\n",
    "\n",
    "def hyperopt_train_test(params, X_train, y_train):\n",
    "    \n",
    "    estimator = ensemble.GradientBoostingClassifier(learning_rate = params['learning_rate'],\n",
    "                                                    n_estimators = 25,\n",
    "                                                    max_depth = params['max_depth'])\n",
    "    \n",
    "    scores = cross_validate(estimator, \n",
    "                            X_train, \n",
    "                            y_train, \n",
    "                            cv=4,\n",
    "                            scoring=\"accuracy\")\n",
    "    \n",
    "    return scores['test_score'].mean()"
   ]
  },
  {
   "cell_type": "code",
   "execution_count": 201,
   "metadata": {
    "scrolled": false
   },
   "outputs": [
    {
     "name": "stdout",
     "output_type": "stream",
     "text": [
      "100%|██████████| 50/50 [02:21<00:00,  2.84s/it, best loss: -0.8923868277594544]\n",
      "Best:  {'learning_rate': 5, 'max_depth': 3.0, 'n_estimators': 2}\n",
      "Trials:\n",
      "{'state': 2, 'tid': 0, 'spec': None, 'result': {'loss': -0.8914108099122711, 'status': 'ok'}, 'misc': {'tid': 0, 'cmd': ('domain_attachment', 'FMinIter_Domain'), 'workdir': None, 'idxs': {'learning_rate': [0], 'max_depth': [0], 'n_estimators': [0]}, 'vals': {'learning_rate': [1], 'max_depth': [4.0], 'n_estimators': [4]}}, 'exp_key': None, 'owner': None, 'version': 0, 'book_time': datetime.datetime(2019, 12, 2, 10, 0, 33, 412000), 'refresh_time': datetime.datetime(2019, 12, 2, 10, 0, 37, 184000)}\n",
      "{'state': 2, 'tid': 1, 'spec': None, 'result': {'loss': -0.8898775336460112, 'status': 'ok'}, 'misc': {'tid': 1, 'cmd': ('domain_attachment', 'FMinIter_Domain'), 'workdir': None, 'idxs': {'learning_rate': [1], 'max_depth': [1], 'n_estimators': [1]}, 'vals': {'learning_rate': [4], 'max_depth': [5.0], 'n_estimators': [1]}}, 'exp_key': None, 'owner': None, 'version': 0, 'book_time': datetime.datetime(2019, 12, 2, 10, 0, 37, 188000), 'refresh_time': datetime.datetime(2019, 12, 2, 10, 0, 42, 419000)}\n",
      "{'state': 2, 'tid': 2, 'spec': None, 'result': {'loss': -0.8904351027751065, 'status': 'ok'}, 'misc': {'tid': 2, 'cmd': ('domain_attachment', 'FMinIter_Domain'), 'workdir': None, 'idxs': {'learning_rate': [2], 'max_depth': [2], 'n_estimators': [2]}, 'vals': {'learning_rate': [2], 'max_depth': [2.0], 'n_estimators': [2]}}, 'exp_key': None, 'owner': None, 'version': 0, 'book_time': datetime.datetime(2019, 12, 2, 10, 0, 42, 422000), 'refresh_time': datetime.datetime(2019, 12, 2, 10, 0, 44, 40000)}\n",
      "{'state': 2, 'tid': 3, 'spec': None, 'result': {'loss': -0.8918291032753496, 'status': 'ok'}, 'misc': {'tid': 3, 'cmd': ('domain_attachment', 'FMinIter_Domain'), 'workdir': None, 'idxs': {'learning_rate': [3], 'max_depth': [3], 'n_estimators': [3]}, 'vals': {'learning_rate': [4], 'max_depth': [3.0], 'n_estimators': [1]}}, 'exp_key': None, 'owner': None, 'version': 0, 'book_time': datetime.datetime(2019, 12, 2, 10, 0, 44, 43000), 'refresh_time': datetime.datetime(2019, 12, 2, 10, 0, 46, 657000)}\n",
      "{'state': 2, 'tid': 4, 'spec': None, 'result': {'loss': -0.8915502410332972, 'status': 'ok'}, 'misc': {'tid': 4, 'cmd': ('domain_attachment', 'FMinIter_Domain'), 'workdir': None, 'idxs': {'learning_rate': [4], 'max_depth': [4], 'n_estimators': [4]}, 'vals': {'learning_rate': [3], 'max_depth': [3.0], 'n_estimators': [5]}}, 'exp_key': None, 'owner': None, 'version': 0, 'book_time': datetime.datetime(2019, 12, 2, 10, 0, 46, 661000), 'refresh_time': datetime.datetime(2019, 12, 2, 10, 0, 49, 317000)}\n",
      "{'state': 2, 'tid': 5, 'spec': None, 'result': {'loss': -0.8685495434893046, 'status': 'ok'}, 'misc': {'tid': 5, 'cmd': ('domain_attachment', 'FMinIter_Domain'), 'workdir': None, 'idxs': {'learning_rate': [5], 'max_depth': [5], 'n_estimators': [5]}, 'vals': {'learning_rate': [0], 'max_depth': [1.0], 'n_estimators': [0]}}, 'exp_key': None, 'owner': None, 'version': 0, 'book_time': datetime.datetime(2019, 12, 2, 10, 0, 49, 321000), 'refresh_time': datetime.datetime(2019, 12, 2, 10, 0, 50, 46000)}\n",
      "{'state': 2, 'tid': 6, 'spec': None, 'result': {'loss': -0.8909928272592114, 'status': 'ok'}, 'misc': {'tid': 6, 'cmd': ('domain_attachment', 'FMinIter_Domain'), 'workdir': None, 'idxs': {'learning_rate': [6], 'max_depth': [6], 'n_estimators': [6]}, 'vals': {'learning_rate': [2], 'max_depth': [4.0], 'n_estimators': [3]}}, 'exp_key': None, 'owner': None, 'version': 0, 'book_time': datetime.datetime(2019, 12, 2, 10, 0, 50, 49000), 'refresh_time': datetime.datetime(2019, 12, 2, 10, 0, 53, 805000)}\n",
      "{'state': 2, 'tid': 7, 'spec': None, 'result': {'loss': -0.8912713787912447, 'status': 'ok'}, 'misc': {'tid': 7, 'cmd': ('domain_attachment', 'FMinIter_Domain'), 'workdir': None, 'idxs': {'learning_rate': [7], 'max_depth': [7], 'n_estimators': [7]}, 'vals': {'learning_rate': [1], 'max_depth': [4.0], 'n_estimators': [2]}}, 'exp_key': None, 'owner': None, 'version': 0, 'book_time': datetime.datetime(2019, 12, 2, 10, 0, 53, 808000), 'refresh_time': datetime.datetime(2019, 12, 2, 10, 0, 57, 573000)}\n",
      "{'state': 2, 'tid': 8, 'spec': None, 'result': {'loss': -0.8904351027751065, 'status': 'ok'}, 'misc': {'tid': 8, 'cmd': ('domain_attachment', 'FMinIter_Domain'), 'workdir': None, 'idxs': {'learning_rate': [8], 'max_depth': [8], 'n_estimators': [8]}, 'vals': {'learning_rate': [2], 'max_depth': [2.0], 'n_estimators': [1]}}, 'exp_key': None, 'owner': None, 'version': 0, 'book_time': datetime.datetime(2019, 12, 2, 10, 0, 57, 577000), 'refresh_time': datetime.datetime(2019, 12, 2, 10, 0, 59, 181000)}\n",
      "{'state': 2, 'tid': 9, 'spec': None, 'result': {'loss': -0.8915503963883067, 'status': 'ok'}, 'misc': {'tid': 9, 'cmd': ('domain_attachment', 'FMinIter_Domain'), 'workdir': None, 'idxs': {'learning_rate': [9], 'max_depth': [9], 'n_estimators': [9]}, 'vals': {'learning_rate': [5], 'max_depth': [4.0], 'n_estimators': [3]}}, 'exp_key': None, 'owner': None, 'version': 0, 'book_time': datetime.datetime(2019, 12, 2, 10, 0, 59, 184000), 'refresh_time': datetime.datetime(2019, 12, 2, 10, 1, 2, 993000)}\n",
      "{'state': 2, 'tid': 10, 'spec': None, 'result': {'loss': -0.8909928272592114, 'status': 'ok'}, 'misc': {'tid': 10, 'cmd': ('domain_attachment', 'FMinIter_Domain'), 'workdir': None, 'idxs': {'learning_rate': [10], 'max_depth': [10], 'n_estimators': [10]}, 'vals': {'learning_rate': [1], 'max_depth': [4.0], 'n_estimators': [4]}}, 'exp_key': None, 'owner': None, 'version': 0, 'book_time': datetime.datetime(2019, 12, 2, 10, 1, 2, 997000), 'refresh_time': datetime.datetime(2019, 12, 2, 10, 1, 6, 773000)}\n",
      "{'state': 2, 'tid': 11, 'spec': None, 'result': {'loss': -0.8880661719127465, 'status': 'ok'}, 'misc': {'tid': 11, 'cmd': ('domain_attachment', 'FMinIter_Domain'), 'workdir': None, 'idxs': {'learning_rate': [11], 'max_depth': [11], 'n_estimators': [11]}, 'vals': {'learning_rate': [5], 'max_depth': [5.0], 'n_estimators': [0]}}, 'exp_key': None, 'owner': None, 'version': 0, 'book_time': datetime.datetime(2019, 12, 2, 10, 1, 6, 777000), 'refresh_time': datetime.datetime(2019, 12, 2, 10, 1, 11, 961000)}\n",
      "{'state': 2, 'tid': 12, 'spec': None, 'result': {'loss': -0.8922473966384283, 'status': 'ok'}, 'misc': {'tid': 12, 'cmd': ('domain_attachment', 'FMinIter_Domain'), 'workdir': None, 'idxs': {'learning_rate': [12], 'max_depth': [12], 'n_estimators': [12]}, 'vals': {'learning_rate': [5], 'max_depth': [3.0], 'n_estimators': [3]}}, 'exp_key': None, 'owner': None, 'version': 0, 'book_time': datetime.datetime(2019, 12, 2, 10, 1, 11, 965000), 'refresh_time': datetime.datetime(2019, 12, 2, 10, 1, 14, 595000)}\n",
      "{'state': 2, 'tid': 13, 'spec': None, 'result': {'loss': -0.8909932933242399, 'status': 'ok'}, 'misc': {'tid': 13, 'cmd': ('domain_attachment', 'FMinIter_Domain'), 'workdir': None, 'idxs': {'learning_rate': [13], 'max_depth': [13], 'n_estimators': [13]}, 'vals': {'learning_rate': [3], 'max_depth': [4.0], 'n_estimators': [0]}}, 'exp_key': None, 'owner': None, 'version': 0, 'book_time': datetime.datetime(2019, 12, 2, 10, 1, 14, 598000), 'refresh_time': datetime.datetime(2019, 12, 2, 10, 1, 18, 435000)}\n",
      "{'state': 2, 'tid': 14, 'spec': None, 'result': {'loss': -0.8915505517433162, 'status': 'ok'}, 'misc': {'tid': 14, 'cmd': ('domain_attachment', 'FMinIter_Domain'), 'workdir': None, 'idxs': {'learning_rate': [14], 'max_depth': [14], 'n_estimators': [14]}, 'vals': {'learning_rate': [4], 'max_depth': [4.0], 'n_estimators': [0]}}, 'exp_key': None, 'owner': None, 'version': 0, 'book_time': datetime.datetime(2019, 12, 2, 10, 1, 18, 438000), 'refresh_time': datetime.datetime(2019, 12, 2, 10, 1, 22, 285000)}\n",
      "{'state': 2, 'tid': 15, 'spec': None, 'result': {'loss': -0.8921084315824306, 'status': 'ok'}, 'misc': {'tid': 15, 'cmd': ('domain_attachment', 'FMinIter_Domain'), 'workdir': None, 'idxs': {'learning_rate': [15], 'max_depth': [15], 'n_estimators': [15]}, 'vals': {'learning_rate': [4], 'max_depth': [4.0], 'n_estimators': [5]}}, 'exp_key': None, 'owner': None, 'version': 0, 'book_time': datetime.datetime(2019, 12, 2, 10, 1, 22, 288000), 'refresh_time': datetime.datetime(2019, 12, 2, 10, 1, 26, 123000)}\n",
      "{'state': 2, 'tid': 16, 'spec': None, 'result': {'loss': -0.8914112759772996, 'status': 'ok'}, 'misc': {'tid': 16, 'cmd': ('domain_attachment', 'FMinIter_Domain'), 'workdir': None, 'idxs': {'learning_rate': [16], 'max_depth': [16], 'n_estimators': [16]}, 'vals': {'learning_rate': [4], 'max_depth': [4.0], 'n_estimators': [0]}}, 'exp_key': None, 'owner': None, 'version': 0, 'book_time': datetime.datetime(2019, 12, 2, 10, 1, 26, 126000), 'refresh_time': datetime.datetime(2019, 12, 2, 10, 1, 29, 975000)}\n",
      "{'state': 2, 'tid': 17, 'spec': None, 'result': {'loss': -0.8898772229359921, 'status': 'ok'}, 'misc': {'tid': 17, 'cmd': ('domain_attachment', 'FMinIter_Domain'), 'workdir': None, 'idxs': {'learning_rate': [17], 'max_depth': [17], 'n_estimators': [17]}, 'vals': {'learning_rate': [1], 'max_depth': [2.0], 'n_estimators': [4]}}, 'exp_key': None, 'owner': None, 'version': 0, 'book_time': datetime.datetime(2019, 12, 2, 10, 1, 29, 979000), 'refresh_time': datetime.datetime(2019, 12, 2, 10, 1, 31, 586000)}\n",
      "{'state': 2, 'tid': 18, 'spec': None, 'result': {'loss': -0.891689827509333, 'status': 'ok'}, 'misc': {'tid': 18, 'cmd': ('domain_attachment', 'FMinIter_Domain'), 'workdir': None, 'idxs': {'learning_rate': [18], 'max_depth': [18], 'n_estimators': [18]}, 'vals': {'learning_rate': [0], 'max_depth': [3.0], 'n_estimators': [4]}}, 'exp_key': None, 'owner': None, 'version': 0, 'book_time': datetime.datetime(2019, 12, 2, 10, 1, 31, 589000), 'refresh_time': datetime.datetime(2019, 12, 2, 10, 1, 34, 243000)}\n",
      "{'state': 2, 'tid': 19, 'spec': None, 'result': {'loss': -0.8914109652672806, 'status': 'ok'}, 'misc': {'tid': 19, 'cmd': ('domain_attachment', 'FMinIter_Domain'), 'workdir': None, 'idxs': {'learning_rate': [19], 'max_depth': [19], 'n_estimators': [19]}, 'vals': {'learning_rate': [0], 'max_depth': [3.0], 'n_estimators': [3]}}, 'exp_key': None, 'owner': None, 'version': 0, 'book_time': datetime.datetime(2019, 12, 2, 10, 1, 34, 246000), 'refresh_time': datetime.datetime(2019, 12, 2, 10, 1, 36, 865000)}\n",
      "{'state': 2, 'tid': 20, 'spec': None, 'result': {'loss': -0.8895991374689873, 'status': 'ok'}, 'misc': {'tid': 20, 'cmd': ('domain_attachment', 'FMinIter_Domain'), 'workdir': None, 'idxs': {'learning_rate': [20], 'max_depth': [20], 'n_estimators': [20]}, 'vals': {'learning_rate': [5], 'max_depth': [5.0], 'n_estimators': [5]}}, 'exp_key': None, 'owner': None, 'version': 0, 'book_time': datetime.datetime(2019, 12, 2, 10, 1, 36, 872000), 'refresh_time': datetime.datetime(2019, 12, 2, 10, 1, 42, 36000)}\n",
      "{'state': 2, 'tid': 21, 'spec': None, 'result': {'loss': -0.8905746892511424, 'status': 'ok'}, 'misc': {'tid': 21, 'cmd': ('domain_attachment', 'FMinIter_Domain'), 'workdir': None, 'idxs': {'learning_rate': [21], 'max_depth': [21], 'n_estimators': [21]}, 'vals': {'learning_rate': [5], 'max_depth': [2.0], 'n_estimators': [5]}}, 'exp_key': None, 'owner': None, 'version': 0, 'book_time': datetime.datetime(2019, 12, 2, 10, 1, 42, 43000), 'refresh_time': datetime.datetime(2019, 12, 2, 10, 1, 43, 624000)}\n",
      "{'state': 2, 'tid': 22, 'spec': None, 'result': {'loss': -0.8922473966384283, 'status': 'ok'}, 'misc': {'tid': 22, 'cmd': ('domain_attachment', 'FMinIter_Domain'), 'workdir': None, 'idxs': {'learning_rate': [22], 'max_depth': [22], 'n_estimators': [22]}, 'vals': {'learning_rate': [5], 'max_depth': [3.0], 'n_estimators': [3]}}, 'exp_key': None, 'owner': None, 'version': 0, 'book_time': datetime.datetime(2019, 12, 2, 10, 1, 43, 631000), 'refresh_time': datetime.datetime(2019, 12, 2, 10, 1, 46, 230000)}\n",
      "{'state': 2, 'tid': 23, 'spec': None, 'result': {'loss': -0.8671556983440709, 'status': 'ok'}, 'misc': {'tid': 23, 'cmd': ('domain_attachment', 'FMinIter_Domain'), 'workdir': None, 'idxs': {'learning_rate': [23], 'max_depth': [23], 'n_estimators': [23]}, 'vals': {'learning_rate': [5], 'max_depth': [1.0], 'n_estimators': [3]}}, 'exp_key': None, 'owner': None, 'version': 0, 'book_time': datetime.datetime(2019, 12, 2, 10, 1, 46, 237000), 'refresh_time': datetime.datetime(2019, 12, 2, 10, 1, 46, 972000)}\n",
      "{'state': 2, 'tid': 24, 'spec': None, 'result': {'loss': -0.8922473966384283, 'status': 'ok'}, 'misc': {'tid': 24, 'cmd': ('domain_attachment', 'FMinIter_Domain'), 'workdir': None, 'idxs': {'learning_rate': [24], 'max_depth': [24], 'n_estimators': [24]}, 'vals': {'learning_rate': [5], 'max_depth': [3.0], 'n_estimators': [3]}}, 'exp_key': None, 'owner': None, 'version': 0, 'book_time': datetime.datetime(2019, 12, 2, 10, 1, 46, 979000), 'refresh_time': datetime.datetime(2019, 12, 2, 10, 1, 49, 604000)}\n",
      "{'state': 2, 'tid': 25, 'spec': None, 'result': {'loss': -0.8905746892511424, 'status': 'ok'}, 'misc': {'tid': 25, 'cmd': ('domain_attachment', 'FMinIter_Domain'), 'workdir': None, 'idxs': {'learning_rate': [25], 'max_depth': [25], 'n_estimators': [25]}, 'vals': {'learning_rate': [5], 'max_depth': [2.0], 'n_estimators': [3]}}, 'exp_key': None, 'owner': None, 'version': 0, 'book_time': datetime.datetime(2019, 12, 2, 10, 1, 49, 612000), 'refresh_time': datetime.datetime(2019, 12, 2, 10, 1, 51, 205000)}\n",
      "{'state': 2, 'tid': 26, 'spec': None, 'result': {'loss': -0.8922473966384283, 'status': 'ok'}, 'misc': {'tid': 26, 'cmd': ('domain_attachment', 'FMinIter_Domain'), 'workdir': None, 'idxs': {'learning_rate': [26], 'max_depth': [26], 'n_estimators': [26]}, 'vals': {'learning_rate': [5], 'max_depth': [3.0], 'n_estimators': [3]}}, 'exp_key': None, 'owner': None, 'version': 0, 'book_time': datetime.datetime(2019, 12, 2, 10, 1, 51, 212000), 'refresh_time': datetime.datetime(2019, 12, 2, 10, 1, 53, 837000)}\n",
      "{'state': 2, 'tid': 27, 'spec': None, 'result': {'loss': -0.8916896721543235, 'status': 'ok'}, 'misc': {'tid': 27, 'cmd': ('domain_attachment', 'FMinIter_Domain'), 'workdir': None, 'idxs': {'learning_rate': [27], 'max_depth': [27], 'n_estimators': [27]}, 'vals': {'learning_rate': [3], 'max_depth': [3.0], 'n_estimators': [3]}}, 'exp_key': None, 'owner': None, 'version': 0, 'book_time': datetime.datetime(2019, 12, 2, 10, 1, 53, 845000), 'refresh_time': datetime.datetime(2019, 12, 2, 10, 1, 56, 485000)}\n",
      "{'state': 2, 'tid': 28, 'spec': None, 'result': {'loss': -0.8905746892511424, 'status': 'ok'}, 'misc': {'tid': 28, 'cmd': ('domain_attachment', 'FMinIter_Domain'), 'workdir': None, 'idxs': {'learning_rate': [28], 'max_depth': [28], 'n_estimators': [28]}, 'vals': {'learning_rate': [5], 'max_depth': [2.0], 'n_estimators': [3]}}, 'exp_key': None, 'owner': None, 'version': 0, 'book_time': datetime.datetime(2019, 12, 2, 10, 1, 56, 492000), 'refresh_time': datetime.datetime(2019, 12, 2, 10, 1, 58, 86000)}\n",
      "{'state': 2, 'tid': 29, 'spec': None, 'result': {'loss': -0.8922473966384283, 'status': 'ok'}, 'misc': {'tid': 29, 'cmd': ('domain_attachment', 'FMinIter_Domain'), 'workdir': None, 'idxs': {'learning_rate': [29], 'max_depth': [29], 'n_estimators': [29]}, 'vals': {'learning_rate': [5], 'max_depth': [3.0], 'n_estimators': [2]}}, 'exp_key': None, 'owner': None, 'version': 0, 'book_time': datetime.datetime(2019, 12, 2, 10, 1, 58, 94000), 'refresh_time': datetime.datetime(2019, 12, 2, 10, 2, 0, 717000)}\n",
      "{'state': 2, 'tid': 30, 'spec': None, 'result': {'loss': -0.8671556983440709, 'status': 'ok'}, 'misc': {'tid': 30, 'cmd': ('domain_attachment', 'FMinIter_Domain'), 'workdir': None, 'idxs': {'learning_rate': [30], 'max_depth': [30], 'n_estimators': [30]}, 'vals': {'learning_rate': [5], 'max_depth': [1.0], 'n_estimators': [2]}}, 'exp_key': None, 'owner': None, 'version': 0, 'book_time': datetime.datetime(2019, 12, 2, 10, 2, 0, 725000), 'refresh_time': datetime.datetime(2019, 12, 2, 10, 2, 1, 468000)}\n",
      "{'state': 2, 'tid': 31, 'spec': None, 'result': {'loss': -0.8902961377191088, 'status': 'ok'}, 'misc': {'tid': 31, 'cmd': ('domain_attachment', 'FMinIter_Domain'), 'workdir': None, 'idxs': {'learning_rate': [31], 'max_depth': [31], 'n_estimators': [31]}, 'vals': {'learning_rate': [2], 'max_depth': [5.0], 'n_estimators': [3]}}, 'exp_key': None, 'owner': None, 'version': 0, 'book_time': datetime.datetime(2019, 12, 2, 10, 2, 1, 476000), 'refresh_time': datetime.datetime(2019, 12, 2, 10, 2, 7, 441000)}\n",
      "{'state': 2, 'tid': 32, 'spec': None, 'result': {'loss': -0.8912715341462543, 'status': 'ok'}, 'misc': {'tid': 32, 'cmd': ('domain_attachment', 'FMinIter_Domain'), 'workdir': None, 'idxs': {'learning_rate': [32], 'max_depth': [32], 'n_estimators': [32]}, 'vals': {'learning_rate': [3], 'max_depth': [2.0], 'n_estimators': [2]}}, 'exp_key': None, 'owner': None, 'version': 0, 'book_time': datetime.datetime(2019, 12, 2, 10, 2, 7, 449000), 'refresh_time': datetime.datetime(2019, 12, 2, 10, 2, 9, 51000)}\n",
      "{'state': 2, 'tid': 33, 'spec': None, 'result': {'loss': -0.8915503963883067, 'status': 'ok'}, 'misc': {'tid': 33, 'cmd': ('domain_attachment', 'FMinIter_Domain'), 'workdir': None, 'idxs': {'learning_rate': [33], 'max_depth': [33], 'n_estimators': [33]}, 'vals': {'learning_rate': [0], 'max_depth': [3.0], 'n_estimators': [2]}}, 'exp_key': None, 'owner': None, 'version': 0, 'book_time': datetime.datetime(2019, 12, 2, 10, 2, 9, 59000), 'refresh_time': datetime.datetime(2019, 12, 2, 10, 2, 11, 722000)}\n",
      "{'state': 2, 'tid': 34, 'spec': None, 'result': {'loss': -0.8923868277594544, 'status': 'ok'}, 'misc': {'tid': 34, 'cmd': ('domain_attachment', 'FMinIter_Domain'), 'workdir': None, 'idxs': {'learning_rate': [34], 'max_depth': [34], 'n_estimators': [34]}, 'vals': {'learning_rate': [5], 'max_depth': [3.0], 'n_estimators': [2]}}, 'exp_key': None, 'owner': None, 'version': 0, 'book_time': datetime.datetime(2019, 12, 2, 10, 2, 11, 730000), 'refresh_time': datetime.datetime(2019, 12, 2, 10, 2, 14, 368000)}\n",
      "{'state': 2, 'tid': 35, 'spec': None, 'result': {'loss': -0.8685495434893046, 'status': 'ok'}, 'misc': {'tid': 35, 'cmd': ('domain_attachment', 'FMinIter_Domain'), 'workdir': None, 'idxs': {'learning_rate': [35], 'max_depth': [35], 'n_estimators': [35]}, 'vals': {'learning_rate': [1], 'max_depth': [1.0], 'n_estimators': [2]}}, 'exp_key': None, 'owner': None, 'version': 0, 'book_time': datetime.datetime(2019, 12, 2, 10, 2, 14, 376000), 'refresh_time': datetime.datetime(2019, 12, 2, 10, 2, 15, 111000)}\n",
      "{'state': 2, 'tid': 36, 'spec': None, 'result': {'loss': -0.8907141203721685, 'status': 'ok'}, 'misc': {'tid': 36, 'cmd': ('domain_attachment', 'FMinIter_Domain'), 'workdir': None, 'idxs': {'learning_rate': [36], 'max_depth': [36], 'n_estimators': [36]}, 'vals': {'learning_rate': [5], 'max_depth': [2.0], 'n_estimators': [1]}}, 'exp_key': None, 'owner': None, 'version': 0, 'book_time': datetime.datetime(2019, 12, 2, 10, 2, 15, 120000), 'refresh_time': datetime.datetime(2019, 12, 2, 10, 2, 16, 749000)}\n",
      "{'state': 2, 'tid': 37, 'spec': None, 'result': {'loss': -0.8912713787912447, 'status': 'ok'}, 'misc': {'tid': 37, 'cmd': ('domain_attachment', 'FMinIter_Domain'), 'workdir': None, 'idxs': {'learning_rate': [37], 'max_depth': [37], 'n_estimators': [37]}, 'vals': {'learning_rate': [2], 'max_depth': [3.0], 'n_estimators': [2]}}, 'exp_key': None, 'owner': None, 'version': 0, 'book_time': datetime.datetime(2019, 12, 2, 10, 2, 16, 757000), 'refresh_time': datetime.datetime(2019, 12, 2, 10, 2, 19, 440000)}\n",
      "{'state': 2, 'tid': 38, 'spec': None, 'result': {'loss': -0.8912715341462543, 'status': 'ok'}, 'misc': {'tid': 38, 'cmd': ('domain_attachment', 'FMinIter_Domain'), 'workdir': None, 'idxs': {'learning_rate': [38], 'max_depth': [38], 'n_estimators': [38]}, 'vals': {'learning_rate': [3], 'max_depth': [2.0], 'n_estimators': [2]}}, 'exp_key': None, 'owner': None, 'version': 0, 'book_time': datetime.datetime(2019, 12, 2, 10, 2, 19, 449000), 'refresh_time': datetime.datetime(2019, 12, 2, 10, 2, 21, 69000)}\n",
      "{'state': 2, 'tid': 39, 'spec': None, 'result': {'loss': -0.8915507070983257, 'status': 'ok'}, 'misc': {'tid': 39, 'cmd': ('domain_attachment', 'FMinIter_Domain'), 'workdir': None, 'idxs': {'learning_rate': [39], 'max_depth': [39], 'n_estimators': [39]}, 'vals': {'learning_rate': [4], 'max_depth': [4.0], 'n_estimators': [2]}}, 'exp_key': None, 'owner': None, 'version': 0, 'book_time': datetime.datetime(2019, 12, 2, 10, 2, 21, 77000), 'refresh_time': datetime.datetime(2019, 12, 2, 10, 2, 24, 913000)}\n",
      "{'state': 2, 'tid': 40, 'spec': None, 'result': {'loss': -0.8893202752269349, 'status': 'ok'}, 'misc': {'tid': 40, 'cmd': ('domain_attachment', 'FMinIter_Domain'), 'workdir': None, 'idxs': {'learning_rate': [40], 'max_depth': [40], 'n_estimators': [40]}, 'vals': {'learning_rate': [2], 'max_depth': [5.0], 'n_estimators': [2]}}, 'exp_key': None, 'owner': None, 'version': 0, 'book_time': datetime.datetime(2019, 12, 2, 10, 2, 24, 921000), 'refresh_time': datetime.datetime(2019, 12, 2, 10, 2, 30, 248000)}\n",
      "{'state': 2, 'tid': 41, 'spec': None, 'result': {'loss': -0.891689827509333, 'status': 'ok'}, 'misc': {'tid': 41, 'cmd': ('domain_attachment', 'FMinIter_Domain'), 'workdir': None, 'idxs': {'learning_rate': [41], 'max_depth': [41], 'n_estimators': [41]}, 'vals': {'learning_rate': [1], 'max_depth': [3.0], 'n_estimators': [1]}}, 'exp_key': None, 'owner': None, 'version': 0, 'book_time': datetime.datetime(2019, 12, 2, 10, 2, 30, 257000), 'refresh_time': datetime.datetime(2019, 12, 2, 10, 2, 32, 917000)}\n",
      "{'state': 2, 'tid': 42, 'spec': None, 'result': {'loss': -0.8898772229359921, 'status': 'ok'}, 'misc': {'tid': 42, 'cmd': ('domain_attachment', 'FMinIter_Domain'), 'workdir': None, 'idxs': {'learning_rate': [42], 'max_depth': [42], 'n_estimators': [42]}, 'vals': {'learning_rate': [0], 'max_depth': [2.0], 'n_estimators': [4]}}, 'exp_key': None, 'owner': None, 'version': 0, 'book_time': datetime.datetime(2019, 12, 2, 10, 2, 32, 925000), 'refresh_time': datetime.datetime(2019, 12, 2, 10, 2, 34, 543000)}\n",
      "{'state': 2, 'tid': 43, 'spec': None, 'result': {'loss': -0.8909928272592114, 'status': 'ok'}, 'misc': {'tid': 43, 'cmd': ('domain_attachment', 'FMinIter_Domain'), 'workdir': None, 'idxs': {'learning_rate': [43], 'max_depth': [43], 'n_estimators': [43]}, 'vals': {'learning_rate': [5], 'max_depth': [4.0], 'n_estimators': [1]}}, 'exp_key': None, 'owner': None, 'version': 0, 'book_time': datetime.datetime(2019, 12, 2, 10, 2, 34, 552000), 'refresh_time': datetime.datetime(2019, 12, 2, 10, 2, 38, 356000)}\n",
      "{'state': 2, 'tid': 44, 'spec': None, 'result': {'loss': -0.8918294139853686, 'status': 'ok'}, 'misc': {'tid': 44, 'cmd': ('domain_attachment', 'FMinIter_Domain'), 'workdir': None, 'idxs': {'learning_rate': [44], 'max_depth': [44], 'n_estimators': [44]}, 'vals': {'learning_rate': [5], 'max_depth': [4.0], 'n_estimators': [5]}}, 'exp_key': None, 'owner': None, 'version': 0, 'book_time': datetime.datetime(2019, 12, 2, 10, 2, 38, 365000), 'refresh_time': datetime.datetime(2019, 12, 2, 10, 2, 42, 253000)}\n",
      "{'state': 2, 'tid': 45, 'spec': None, 'result': {'loss': -0.8918291032753496, 'status': 'ok'}, 'misc': {'tid': 45, 'cmd': ('domain_attachment', 'FMinIter_Domain'), 'workdir': None, 'idxs': {'learning_rate': [45], 'max_depth': [45], 'n_estimators': [45]}, 'vals': {'learning_rate': [4], 'max_depth': [3.0], 'n_estimators': [0]}}, 'exp_key': None, 'owner': None, 'version': 0, 'book_time': datetime.datetime(2019, 12, 2, 10, 2, 42, 261000), 'refresh_time': datetime.datetime(2019, 12, 2, 10, 2, 45, 723000)}\n",
      "{'state': 2, 'tid': 46, 'spec': None, 'result': {'loss': -0.8671556983440709, 'status': 'ok'}, 'misc': {'tid': 46, 'cmd': ('domain_attachment', 'FMinIter_Domain'), 'workdir': None, 'idxs': {'learning_rate': [46], 'max_depth': [46], 'n_estimators': [46]}, 'vals': {'learning_rate': [5], 'max_depth': [1.0], 'n_estimators': [4]}}, 'exp_key': None, 'owner': None, 'version': 0, 'book_time': datetime.datetime(2019, 12, 2, 10, 2, 45, 734000), 'refresh_time': datetime.datetime(2019, 12, 2, 10, 2, 46, 489000)}\n",
      "{'state': 2, 'tid': 47, 'spec': None, 'result': {'loss': -0.8911319476702186, 'status': 'ok'}, 'misc': {'tid': 47, 'cmd': ('domain_attachment', 'FMinIter_Domain'), 'workdir': None, 'idxs': {'learning_rate': [47], 'max_depth': [47], 'n_estimators': [47]}, 'vals': {'learning_rate': [1], 'max_depth': [4.0], 'n_estimators': [1]}}, 'exp_key': None, 'owner': None, 'version': 0, 'book_time': datetime.datetime(2019, 12, 2, 10, 2, 46, 497000), 'refresh_time': datetime.datetime(2019, 12, 2, 10, 2, 50, 385000)}\n",
      "{'state': 2, 'tid': 48, 'spec': None, 'result': {'loss': -0.8912715341462543, 'status': 'ok'}, 'misc': {'tid': 48, 'cmd': ('domain_attachment', 'FMinIter_Domain'), 'workdir': None, 'idxs': {'learning_rate': [48], 'max_depth': [48], 'n_estimators': [48]}, 'vals': {'learning_rate': [3], 'max_depth': [2.0], 'n_estimators': [0]}}, 'exp_key': None, 'owner': None, 'version': 0, 'book_time': datetime.datetime(2019, 12, 2, 10, 2, 50, 394000), 'refresh_time': datetime.datetime(2019, 12, 2, 10, 2, 51, 991000)}\n",
      "{'state': 2, 'tid': 49, 'spec': None, 'result': {'loss': -0.8915502410332972, 'status': 'ok'}, 'misc': {'tid': 49, 'cmd': ('domain_attachment', 'FMinIter_Domain'), 'workdir': None, 'idxs': {'learning_rate': [49], 'max_depth': [49], 'n_estimators': [49]}, 'vals': {'learning_rate': [2], 'max_depth': [3.0], 'n_estimators': [5]}}, 'exp_key': None, 'owner': None, 'version': 0, 'book_time': datetime.datetime(2019, 12, 2, 10, 2, 52), 'refresh_time': datetime.datetime(2019, 12, 2, 10, 2, 55, 234000)}\n"
     ]
    }
   ],
   "source": [
    "def f(params):\n",
    "    acc = hyperopt_train_test(params, training_data_new.X, training_data_new.y)\n",
    "    return {'loss': -acc, 'status': STATUS_OK}\n",
    "\n",
    "space = {\n",
    "         'n_estimators': hp.choice('n_estimators', [24, 25, 26, 49, 50, 51]),\n",
    "         #'n_estimators': hp.quniform('n_estimators', 10, 200, 10),\n",
    "         'max_depth': hp.quniform('max_depth', 1, 5, 1),\n",
    "         'learning_rate': hp.choice('learning_rate', [0.09, 0.1, 0.11, 0.12, 0.13, 0.14])\n",
    "         #'learning_rate': hp.loguniform('learning_rate', -0.5, 0.5),   \n",
    "}\n",
    "\n",
    "\n",
    "trials = Trials()\n",
    "best = fmin(f, space, algo=tpe.suggest, max_evals=50, trials=trials)\n",
    "print ('Best: ', best)\n",
    "\n",
    "print ('Trials:')\n",
    "\n",
    "for trial in trials.trials:\n",
    "    print(trial)"
   ]
  },
  {
   "cell_type": "code",
   "execution_count": null,
   "metadata": {},
   "outputs": [],
   "source": []
  }
 ],
 "metadata": {
  "kernelspec": {
   "display_name": "Python 3",
   "language": "python",
   "name": "python3"
  },
  "language_info": {
   "codemirror_mode": {
    "name": "ipython",
    "version": 3
   },
   "file_extension": ".py",
   "mimetype": "text/x-python",
   "name": "python",
   "nbconvert_exporter": "python",
   "pygments_lexer": "ipython3",
   "version": "3.7.4"
  }
 },
 "nbformat": 4,
 "nbformat_minor": 2
}
