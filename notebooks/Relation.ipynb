{
 "cells": [
  {
   "cell_type": "code",
   "execution_count": 1,
   "metadata": {},
   "outputs": [],
   "source": [
    "import pandas as pd\n",
    "import seaborn as sns\n",
    "import matplotlib.pyplot as plt\n",
    "import numpy as np"
   ]
  },
  {
   "cell_type": "markdown",
   "metadata": {},
   "source": [
    "# Relation.csv"
   ]
  },
  {
   "cell_type": "code",
   "execution_count": 2,
   "metadata": {},
   "outputs": [
    {
     "data": {
      "text/html": [
       "<div>\n",
       "<style scoped>\n",
       "    .dataframe tbody tr th:only-of-type {\n",
       "        vertical-align: middle;\n",
       "    }\n",
       "\n",
       "    .dataframe tbody tr th {\n",
       "        vertical-align: top;\n",
       "    }\n",
       "\n",
       "    .dataframe thead th {\n",
       "        text-align: right;\n",
       "    }\n",
       "</style>\n",
       "<table border=\"1\" class=\"dataframe\">\n",
       "  <thead>\n",
       "    <tr style=\"text-align: right;\">\n",
       "      <th></th>\n",
       "      <th>userid</th>\n",
       "      <th>like_id</th>\n",
       "    </tr>\n",
       "  </thead>\n",
       "  <tbody>\n",
       "    <tr>\n",
       "      <th>0</th>\n",
       "      <td>c6a9a43058c8cc8398ca6e97324c0fae</td>\n",
       "      <td>8628204013</td>\n",
       "    </tr>\n",
       "    <tr>\n",
       "      <th>1</th>\n",
       "      <td>c6a9a43058c8cc8398ca6e97324c0fae</td>\n",
       "      <td>19040608370</td>\n",
       "    </tr>\n",
       "    <tr>\n",
       "      <th>2</th>\n",
       "      <td>c6a9a43058c8cc8398ca6e97324c0fae</td>\n",
       "      <td>24054583527</td>\n",
       "    </tr>\n",
       "    <tr>\n",
       "      <th>3</th>\n",
       "      <td>c6a9a43058c8cc8398ca6e97324c0fae</td>\n",
       "      <td>26726417043</td>\n",
       "    </tr>\n",
       "    <tr>\n",
       "      <th>4</th>\n",
       "      <td>c6a9a43058c8cc8398ca6e97324c0fae</td>\n",
       "      <td>31796936730</td>\n",
       "    </tr>\n",
       "  </tbody>\n",
       "</table>\n",
       "</div>"
      ],
      "text/plain": [
       "                             userid      like_id\n",
       "0  c6a9a43058c8cc8398ca6e97324c0fae   8628204013\n",
       "1  c6a9a43058c8cc8398ca6e97324c0fae  19040608370\n",
       "2  c6a9a43058c8cc8398ca6e97324c0fae  24054583527\n",
       "3  c6a9a43058c8cc8398ca6e97324c0fae  26726417043\n",
       "4  c6a9a43058c8cc8398ca6e97324c0fae  31796936730"
      ]
     },
     "execution_count": 2,
     "metadata": {},
     "output_type": "execute_result"
    }
   ],
   "source": [
    "relation_df_train = pd.read_csv('../../data/Train/Relation/Relation.csv').drop(columns=['Unnamed: 0'])\n",
    "relation_df_train.head()"
   ]
  },
  {
   "cell_type": "markdown",
   "metadata": {},
   "source": [
    "Next, let's see if some of those page ids (like_id) exist in the Test dataset (if not, we wouldn't be able to infer anything based on which id shows up in the Test set):"
   ]
  },
  {
   "cell_type": "code",
   "execution_count": 3,
   "metadata": {},
   "outputs": [],
   "source": [
    "relation_df_test = pd.read_csv('../../data/Public_Test/Relation/Relation.csv').drop(columns=['Unnamed: 0'])"
   ]
  },
  {
   "cell_type": "code",
   "execution_count": 4,
   "metadata": {},
   "outputs": [
    {
     "name": "stdout",
     "output_type": "stream",
     "text": [
      "Amount of pages in common between the Train and Test sets: 23581 or 4.113369278725642%\n"
     ]
    }
   ],
   "source": [
    "test_set_unique_ids = set(relation_df_test['like_id'])\n",
    "train_set_unique_ids = set(relation_df_train['like_id'])\n",
    "common_ids = test_set_unique_ids.intersection(train_set_unique_ids)\n",
    "ids_in_common = len(common_ids)\n",
    "percentage_common = 100 * ids_in_common / (len(test_set_unique_ids) + len(train_set_unique_ids))\n",
    "print(\"Amount of pages in common between the Train and Test sets: {} or {}%\".format(ids_in_common, percentage_common))"
   ]
  },
  {
   "cell_type": "markdown",
   "metadata": {},
   "source": [
    "As we can see, there are not so many ids in common. We might be able to still use the Train set to infer the Test set. Let's continue.\n",
    "\n",
    "Let's take a look at how many times each page was liked in the Train set:"
   ]
  },
  {
   "cell_type": "code",
   "execution_count": 5,
   "metadata": {},
   "outputs": [
    {
     "name": "stdout",
     "output_type": "stream",
     "text": [
      "Total unique pages: 536204\n",
      "Pages with <= 50 likes: 531612\n",
      "Pages with > 50 likes: 4592\n"
     ]
    }
   ],
   "source": [
    "page_id_like_counts = relation_df_train['like_id'].value_counts()\n",
    "print(\"Total unique pages: {}\".format(len(page_id_like_counts)))\n",
    "print(\"Pages with <= 50 likes: {}\".format(len(page_id_like_counts[page_id_like_counts <= 50])))\n",
    "print(\"Pages with > 50 likes: {}\".format(len(page_id_like_counts[page_id_like_counts > 50])))"
   ]
  },
  {
   "cell_type": "markdown",
   "metadata": {},
   "source": [
    "Since most pages have less than 50 likes, the density function is extremely skewed towards the left:"
   ]
  },
  {
   "cell_type": "code",
   "execution_count": 6,
   "metadata": {},
   "outputs": [
    {
     "data": {
      "text/plain": [
       "(-5, 2000)"
      ]
     },
     "execution_count": 6,
     "metadata": {},
     "output_type": "execute_result"
    },
    {
     "data": {
      "image/png": "[encoded data removed]",
      "text/plain": [
       "<Figure size 432x288 with 1 Axes>"
      ]
     },
     "metadata": {
      "needs_background": "light"
     },
     "output_type": "display_data"
    }
   ],
   "source": [
    "page_id_like_counts.plot.kde().set_xlim(-5, 2000)"
   ]
  },
  {
   "cell_type": "markdown",
   "metadata": {},
   "source": [
    "If we zoom in to ones that have up to 50 likes:"
   ]
  },
  {
   "cell_type": "code",
   "execution_count": 7,
   "metadata": {},
   "outputs": [
    {
     "data": {
      "text/plain": [
       "(0, 50)"
      ]
     },
     "execution_count": 7,
     "metadata": {},
     "output_type": "execute_result"
    },
    {
     "data": {
      "image/png": "[encoded data removed]",
      "text/plain": [
       "<Figure size 432x288 with 1 Axes>"
      ]
     },
     "metadata": {
      "needs_background": "light"
     },
     "output_type": "display_data"
    }
   ],
   "source": [
    "page_id_like_counts.plot.kde().set_xlim(0,50)"
   ]
  },
  {
   "cell_type": "markdown",
   "metadata": {},
   "source": [
    "Then we see that a majority (99%+) have less than 10 likes."
   ]
  },
  {
   "cell_type": "markdown",
   "metadata": {},
   "source": [
    "# Comparison to Profile.csv"
   ]
  },
  {
   "cell_type": "code",
   "execution_count": 8,
   "metadata": {},
   "outputs": [],
   "source": [
    "profile_df = pd.read_csv('../../data/Train/Profile/Profile.csv').drop(columns=['Unnamed: 0'])"
   ]
  },
  {
   "cell_type": "code",
   "execution_count": 9,
   "metadata": {},
   "outputs": [
    {
     "data": {
      "text/plain": [
       "112936425387489      1289\n",
       "24609282673          1136\n",
       "7608631709           1061\n",
       "7270241753           1033\n",
       "10376464573           911\n",
       "26748225422           906\n",
       "8210451787            897\n",
       "20531316728           857\n",
       "7914733474            850\n",
       "6708787004            835\n",
       "22092443056           815\n",
       "114998944652          810\n",
       "45309870078           796\n",
       "5660597307            787\n",
       "69116329538           786\n",
       "130405304915          751\n",
       "9098498615            731\n",
       "6278093869            700\n",
       "40796308305           690\n",
       "10212595263           683\n",
       "11784025953           663\n",
       "7126051465            662\n",
       "29112278285           662\n",
       "16453049322           661\n",
       "19691681472           644\n",
       "5388374962            641\n",
       "9588466619            637\n",
       "156794164312          631\n",
       "82499119653           627\n",
       "107641979264998       624\n",
       "                     ... \n",
       "106194829411533         1\n",
       "127563827278322         1\n",
       "246246278139            1\n",
       "117996151576574         1\n",
       "164407130276186         1\n",
       "113476015333577         1\n",
       "239969356610            1\n",
       "104497460077            1\n",
       "185164374911            1\n",
       "223210937192            1\n",
       "236060191598            1\n",
       "119900334710022         1\n",
       "106239236086734         1\n",
       "46731848598             1\n",
       "245768360841            1\n",
       "43594358767             1\n",
       "53933456284             1\n",
       "158738940812233         1\n",
       "112747825406169         1\n",
       "428908430227            1\n",
       "107764932580015         1\n",
       "46551419826             1\n",
       "21914051527             1\n",
       "107442059285192         1\n",
       "268773970897            1\n",
       "142518992468764         1\n",
       "135208442840            1\n",
       "10150141094980710       1\n",
       "202183121864            1\n",
       "267498065938            1\n",
       "Name: like_id, Length: 536204, dtype: int64"
      ]
     },
     "execution_count": 9,
     "metadata": {},
     "output_type": "execute_result"
    }
   ],
   "source": [
    "page_id_like_counts"
   ]
  },
  {
   "cell_type": "markdown",
   "metadata": {},
   "source": [
    "The most liked page has 1289 likes. Let's look at a violin plot of the five personality characteristics of the people that liked that page:"
   ]
  },
  {
   "cell_type": "code",
   "execution_count": 12,
   "metadata": {},
   "outputs": [],
   "source": [
    "def get_users_who_like_a_page(approx_like_count):    \n",
    "    page_id = page_id_like_counts[page_id_like_counts < approx_like_count].keys()[0]\n",
    "    relation_users_who_liked_page_id = relation_df_train[relation_df_train['like_id'] == page_id]['userid']\n",
    "    profile_users_who_liked_page_id = profile_df[profile_df['userid'].isin(relation_users_who_liked_page_id)]\n",
    "    return page_id, profile_users_who_liked_page_id\n",
    "\n",
    "def plot_personality_violin_plot(page_id, data):\n",
    "    print(\"How many likes page id {} got: {}\".format(page_id, len(data)))\n",
    "    sns.violinplot(\n",
    "        data=data.iloc[:, 3:]\n",
    "    ).set_title('Violin plot of people that liked page id {}'.format(page_id))"
   ]
  },
  {
   "cell_type": "code",
   "execution_count": 13,
   "metadata": {},
   "outputs": [
    {
     "name": "stdout",
     "output_type": "stream",
     "text": [
      "How many likes page id 112936425387489 got: 1289\n"
     ]
    },
    {
     "data": {
      "image/png": "[encoded data removed]",
      "text/plain": [
       "<Figure size 432x288 with 1 Axes>"
      ]
     },
     "metadata": {
      "needs_background": "light"
     },
     "output_type": "display_data"
    }
   ],
   "source": [
    "plot_personality_violin_plot(*get_users_who_like_a_page(1300))"
   ]
  },
  {
   "cell_type": "markdown",
   "metadata": {},
   "source": [
    "Here we see that the range of values is all the domain [1:5]. Perhaps not very good for an estimate. But if we look at a page id that has far less likes:"
   ]
  },
  {
   "cell_type": "code",
   "execution_count": 19,
   "metadata": {},
   "outputs": [
    {
     "name": "stdout",
     "output_type": "stream",
     "text": [
      "How many likes page id 203071142594 got: 9\n"
     ]
    },
    {
     "data": {
      "image/png": "[encoded data removed]",
      "text/plain": [
       "<Figure size 432x288 with 1 Axes>"
      ]
     },
     "metadata": {
      "needs_background": "light"
     },
     "output_type": "display_data"
    }
   ],
   "source": [
    "plot_personality_violin_plot(*get_users_who_like_a_page(10))"
   ]
  },
  {
   "cell_type": "markdown",
   "metadata": {},
   "source": [
    "Then we can see that the graph looks quite different. Some values get more precise, some get less precise. For all values (except neu in this case), the range of values shrinks. With some tuning, and taking into account all the likes of a person instead of just one page, allow us, to predict people's personalities?"
   ]
  },
  {
   "cell_type": "code",
   "execution_count": null,
   "metadata": {},
   "outputs": [],
   "source": []
  }
 ],
 "metadata": {
  "kernelspec": {
   "display_name": "Python 3",
   "language": "python",
   "name": "python3"
  },
  "language_info": {
   "codemirror_mode": {
    "name": "ipython",
    "version": 3
   },
   "file_extension": ".py",
   "mimetype": "text/x-python",
   "name": "python",
   "nbconvert_exporter": "python",
   "pygments_lexer": "ipython3",
   "version": "3.7.3"
  }
 },
 "nbformat": 4,
 "nbformat_minor": 2
}
