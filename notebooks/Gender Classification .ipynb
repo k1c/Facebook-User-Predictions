{
 "cells": [
  {
   "cell_type": "code",
   "execution_count": 1,
   "metadata": {},
   "outputs": [],
   "source": [
    "import pandas as pd\n",
    "from typing import Dict\n"
   ]
  },
  {
   "cell_type": "code",
   "execution_count": 2,
   "metadata": {},
   "outputs": [],
   "source": [
    "img_df = pd.read_csv(\"/Users/adityajoshi/facebook_analysis/Train/Image/oxford.csv\")\n",
    "profile_df = pd.read_csv(\"/Users/adityajoshi/facebook_analysis/Train/Profile/Profile.csv\")"
   ]
  },
  {
   "cell_type": "code",
   "execution_count": 3,
   "metadata": {},
   "outputs": [
    {
     "data": {
      "text/html": [
       "<div>\n",
       "<style scoped>\n",
       "    .dataframe tbody tr th:only-of-type {\n",
       "        vertical-align: middle;\n",
       "    }\n",
       "\n",
       "    .dataframe tbody tr th {\n",
       "        vertical-align: top;\n",
       "    }\n",
       "\n",
       "    .dataframe thead th {\n",
       "        text-align: right;\n",
       "    }\n",
       "</style>\n",
       "<table border=\"1\" class=\"dataframe\">\n",
       "  <thead>\n",
       "    <tr style=\"text-align: right;\">\n",
       "      <th></th>\n",
       "      <th>userId</th>\n",
       "      <th>faceID</th>\n",
       "      <th>faceRectangle_width</th>\n",
       "      <th>faceRectangle_height</th>\n",
       "      <th>faceRectangle_left</th>\n",
       "      <th>faceRectangle_top</th>\n",
       "      <th>pupilLeft_x</th>\n",
       "      <th>pupilLeft_y</th>\n",
       "      <th>pupilRight_x</th>\n",
       "      <th>pupilRight_y</th>\n",
       "      <th>...</th>\n",
       "      <th>underLipTop_x</th>\n",
       "      <th>underLipTop_y</th>\n",
       "      <th>underLipBottom_x</th>\n",
       "      <th>underLipBottom_y</th>\n",
       "      <th>facialHair_mustache</th>\n",
       "      <th>facialHair_beard</th>\n",
       "      <th>facialHair_sideburns</th>\n",
       "      <th>headPose_roll</th>\n",
       "      <th>headPose_yaw</th>\n",
       "      <th>headPose_pitch</th>\n",
       "    </tr>\n",
       "  </thead>\n",
       "  <tbody>\n",
       "    <tr>\n",
       "      <td>0</td>\n",
       "      <td>0000e06e07496624211632e8e264126c</td>\n",
       "      <td>f7e072db-8532-4686-9074-27e83fee5e94</td>\n",
       "      <td>61</td>\n",
       "      <td>61</td>\n",
       "      <td>15</td>\n",
       "      <td>49</td>\n",
       "      <td>32.7</td>\n",
       "      <td>64.7</td>\n",
       "      <td>59.7</td>\n",
       "      <td>65.0</td>\n",
       "      <td>...</td>\n",
       "      <td>41.8</td>\n",
       "      <td>94.3</td>\n",
       "      <td>41.9</td>\n",
       "      <td>98.6</td>\n",
       "      <td>0.0</td>\n",
       "      <td>0.0</td>\n",
       "      <td>0.0</td>\n",
       "      <td>3.9</td>\n",
       "      <td>-22.4</td>\n",
       "      <td>0.0</td>\n",
       "    </tr>\n",
       "  </tbody>\n",
       "</table>\n",
       "<p>1 rows × 66 columns</p>\n",
       "</div>"
      ],
      "text/plain": [
       "                             userId                                faceID  \\\n",
       "0  0000e06e07496624211632e8e264126c  f7e072db-8532-4686-9074-27e83fee5e94   \n",
       "\n",
       "   faceRectangle_width  faceRectangle_height  faceRectangle_left  \\\n",
       "0                   61                    61                  15   \n",
       "\n",
       "   faceRectangle_top  pupilLeft_x  pupilLeft_y  pupilRight_x  pupilRight_y  \\\n",
       "0                 49         32.7         64.7          59.7          65.0   \n",
       "\n",
       "   ...  underLipTop_x  underLipTop_y  underLipBottom_x  underLipBottom_y  \\\n",
       "0  ...           41.8           94.3              41.9              98.6   \n",
       "\n",
       "   facialHair_mustache  facialHair_beard  facialHair_sideburns  headPose_roll  \\\n",
       "0                  0.0               0.0                   0.0            3.9   \n",
       "\n",
       "   headPose_yaw  headPose_pitch  \n",
       "0         -22.4             0.0  \n",
       "\n",
       "[1 rows x 66 columns]"
      ]
     },
     "execution_count": 3,
     "metadata": {},
     "output_type": "execute_result"
    }
   ],
   "source": [
    "img_df.head(n=1)"
   ]
  },
  {
   "cell_type": "code",
   "execution_count": 4,
   "metadata": {},
   "outputs": [],
   "source": [
    "def extract_gender(df: pd.Series) -> int:\n",
    "    return profile_df[profile_df[\"userid\"] == df['userId']][\"gender\"].item()"
   ]
  },
  {
   "cell_type": "code",
   "execution_count": 5,
   "metadata": {},
   "outputs": [
    {
     "name": "stderr",
     "output_type": "stream",
     "text": [
      "/Users/adityajoshi/opt/anaconda3/lib/python3.7/site-packages/ipykernel_launcher.py:2: FutureWarning: `item` has been deprecated and will be removed in a future version\n",
      "  \n"
     ]
    }
   ],
   "source": [
    "genders = [extract_gender(row[1]) for row in img_df.iterrows()]"
   ]
  },
  {
   "cell_type": "code",
   "execution_count": 6,
   "metadata": {},
   "outputs": [],
   "source": [
    "img_df = img_df.assign(gender=genders)"
   ]
  },
  {
   "cell_type": "code",
   "execution_count": 7,
   "metadata": {},
   "outputs": [],
   "source": [
    "features, labels = img_df.drop([\"userId\", \"faceID\", \"gender\"], axis=1), img_df[\"gender\"]"
   ]
  },
  {
   "cell_type": "code",
   "execution_count": 8,
   "metadata": {},
   "outputs": [],
   "source": [
    "from sklearn.model_selection import validation_curve"
   ]
  },
  {
   "cell_type": "code",
   "execution_count": 9,
   "metadata": {},
   "outputs": [],
   "source": [
    "from sklearn.ensemble import GradientBoostingClassifier\n",
    "from collections import namedtuple\n",
    "import numpy as np\n",
    "import matplotlib.pyplot as plt"
   ]
  },
  {
   "cell_type": "code",
   "execution_count": null,
   "metadata": {},
   "outputs": [],
   "source": [
    "Data = namedtuple(\"Data\", ['X', 'y'])\n",
    "NAVY = \"#001f3f\"\n",
    "\n",
    "\n",
    "def experiment(estimator, preprocessed_train, hyper_parameter_name, hyper_parameter_values, x_axis_label):\n",
    "    train_scores, valid_scores = validation_curve(estimator,\n",
    "                                                  preprocessed_train.X,\n",
    "                                                  preprocessed_train.y,\n",
    "                                                  hyper_parameter_name,\n",
    "                                                  hyper_parameter_values,\n",
    "                                                  cv=4,\n",
    "                                                  verbose=3,\n",
    "                                                  n_jobs=3,\n",
    "                                                  scoring=\"accuracy\")\n",
    "    train_scores_mean = np.mean(train_scores, axis=1)\n",
    "    train_scores_std = np.std(train_scores, axis=1)\n",
    "    valid_scores_mean = np.mean(valid_scores, axis=1)\n",
    "    valid_scores_std = np.std(valid_scores, axis=1)\n",
    "    plt.title(\"Validation Curve with xgboost for gender classification\")\n",
    "    plt.xlabel(x_axis_label)\n",
    "    plt.ylabel(\"Accuracy\")\n",
    "    lw = 2\n",
    "\n",
    "    plt.plot(hyper_parameter_values, train_scores_mean, label=\"Training Accuracy\",\n",
    "                 color=\"darkorange\", lw=lw)\n",
    "    plt.fill_between(hyper_parameter_values, train_scores_mean - train_scores_std,\n",
    "                     train_scores_mean + train_scores_std, alpha=0.2,\n",
    "                     color=\"darkorange\", lw=lw)\n",
    "    plt.plot(hyper_parameter_values, valid_scores_mean, label=\"Cross-Validation Accuracy\",\n",
    "                 color=NAVY, lw=lw)\n",
    "    plt.fill_between(hyper_parameter_values, valid_scores_mean - valid_scores_std,\n",
    "                     valid_scores_mean + valid_scores_std, alpha=0.2,\n",
    "                     color=NAVY, lw=lw)\n",
    "    print(\"Training Accuracy:\", train_scores)\n",
    "    print(\"Valid Accuracy:\", valid_scores)\n",
    "    plt.legend(loc=\"best\")\n",
    "    plt.show()"
   ]
  },
  {
   "cell_type": "code",
   "execution_count": null,
   "metadata": {},
   "outputs": [],
   "source": [
    "training_data = Data(X=features.values, y=labels.values)"
   ]
  },
  {
   "cell_type": "code",
   "execution_count": null,
   "metadata": {},
   "outputs": [],
   "source": [
    "# Experiment 1: CV on Number of Boosting Stages.\n",
    "from xgboost import XGBClassifier\n",
    "experiment(XGBClassifier(max_depth=3, learning_rate=0.1),\n",
    "           training_data,\n",
    "           \"n_estimators\",\n",
    "           [10, 20, 50, 100, 150, 200],\n",
    "           \"Number of Estimators\")"
   ]
  },
  {
   "cell_type": "code",
   "execution_count": null,
   "metadata": {},
   "outputs": [],
   "source": [
    "experiment(XGBClassifier(n_estimators=50),\n",
    "           training_data,\n",
    "           \"max_depth\",\n",
    "           [2, 3, 5],\n",
    "           \"Max Depth\")"
   ]
  },
  {
   "cell_type": "code",
   "execution_count": null,
   "metadata": {},
   "outputs": [],
   "source": [
    "experiment(XGBClassifier(n_estimators=50, max_depth=3),\n",
    "           training_data,\n",
    "           \"learning_rate\",\n",
    "           [0.1, 0.01, 0.001],\n",
    "           \"Learning Rate\")"
   ]
  },
  {
   "cell_type": "code",
   "execution_count": 41,
   "metadata": {},
   "outputs": [],
   "source": [
    "from sklearn.model_selection import train_test_split\n",
    "from sklearn_evaluation import plot\n",
    "from sklearn.metrics import classification_report\n",
    "from sklearn.ensemble import GradientBoostingClassifier\n",
    "from pylab import rcParams\n",
    "import matplotlib.pyplot as plt\n",
    "rcParams['figure.figsize'] = 5, 3"
   ]
  },
  {
   "cell_type": "code",
   "execution_count": 42,
   "metadata": {},
   "outputs": [],
   "source": [
    "X_train, X_test, y_train, y_test = train_test_split(features.values, labels.values, test_size=0.30)\n",
    "clf = GradientBoostingClassifier(n_estimators=25, max_depth=3)"
   ]
  },
  {
   "cell_type": "code",
   "execution_count": 43,
   "metadata": {},
   "outputs": [],
   "source": [
    "clf.fit(X_train, y_train)\n",
    "y_pred = clf.predict(X_test)"
   ]
  },
  {
   "cell_type": "code",
   "execution_count": 44,
   "metadata": {
    "scrolled": true
   },
   "outputs": [
    {
     "data": {
      "text/plain": [
       "<matplotlib.axes._subplots.AxesSubplot at 0x1a25c10d50>"
      ]
     },
     "execution_count": 44,
     "metadata": {},
     "output_type": "execute_result"
    },
    {
     "data": {
      "image/png": "[encoded data removed]",
      "text/plain": [
       "<Figure size 360x216 with 2 Axes>"
      ]
     },
     "metadata": {
      "needs_background": "light"
     },
     "output_type": "display_data"
    }
   ],
   "source": [
    "ax = plot.confusion_matrix(y_test, y_pred, target_names=[\"male\", \"female\"])\n",
    "plt.subplot(ax)"
   ]
  },
  {
   "cell_type": "code",
   "execution_count": 45,
   "metadata": {},
   "outputs": [
    {
     "data": {
      "text/plain": [
       "'              precision    recall  f1-score   support\\n\\n         0.0       0.86      0.81      0.84       967\\n         1.0       0.88      0.91      0.89      1408\\n\\n    accuracy                           0.87      2375\\n   macro avg       0.87      0.86      0.86      2375\\nweighted avg       0.87      0.87      0.87      2375\\n'"
      ]
     },
     "execution_count": 45,
     "metadata": {},
     "output_type": "execute_result"
    }
   ],
   "source": [
    "classification_report(y_test, y_pred)"
   ]
  },
  {
   "cell_type": "code",
   "execution_count": null,
   "metadata": {},
   "outputs": [],
   "source": []
  }
 ],
 "metadata": {
  "kernelspec": {
   "display_name": "Python 3",
   "language": "python",
   "name": "python3"
  },
  "language_info": {
   "codemirror_mode": {
    "name": "ipython",
    "version": 3
   },
   "file_extension": ".py",
   "mimetype": "text/x-python",
   "name": "python",
   "nbconvert_exporter": "python",
   "pygments_lexer": "ipython3",
   "version": "3.7.4"
  }
 },
 "nbformat": 4,
 "nbformat_minor": 2
}
